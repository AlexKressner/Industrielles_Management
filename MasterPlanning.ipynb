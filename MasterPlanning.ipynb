{
  "nbformat": 4,
  "nbformat_minor": 0,
  "metadata": {
    "colab": {
      "provenance": [],
      "authorship_tag": "ABX9TyOByfYEcxoHl3VeMbNtpQ+o",
      "include_colab_link": true
    },
    "kernelspec": {
      "name": "python3",
      "display_name": "Python 3"
    },
    "language_info": {
      "name": "python"
    }
  },
  "cells": [
    {
      "cell_type": "markdown",
      "metadata": {
        "id": "view-in-github",
        "colab_type": "text"
      },
      "source": [
        "<a href=\"https://colab.research.google.com/github/AlexKressner/Industrielles_Management/blob/main/MasterPlanning.ipynb\" target=\"_parent\"><img src=\"https://colab.research.google.com/assets/colab-badge.svg\" alt=\"Open In Colab\"/></a>"
      ]
    },
    {
      "cell_type": "markdown",
      "metadata": {
        "id": "b2fc884d"
      },
      "source": [
        "# Master Planning"
      ]
    },
    {
      "cell_type": "markdown",
      "source": [
        "## Implementierung"
      ],
      "metadata": {
        "id": "8T1IHcjpUBoZ"
      }
    },
    {
      "cell_type": "code",
      "execution_count": 5,
      "metadata": {
        "id": "cdb29647",
        "colab": {
          "base_uri": "https://localhost:8080/"
        },
        "outputId": "8ff7b256-e275-4254-e467-68f691bd0249"
      },
      "outputs": [
        {
          "output_type": "stream",
          "name": "stdout",
          "text": [
            "\u001b[2K     \u001b[90m━━━━━━━━━━━━━━━━━━━━━━━━━━━━━━━━━━━━━━━━\u001b[0m \u001b[32m2.1/2.1 MB\u001b[0m \u001b[31m12.7 MB/s\u001b[0m eta \u001b[36m0:00:00\u001b[0m\n",
            "\u001b[2K   \u001b[90m━━━━━━━━━━━━━━━━━━━━━━━━━━━━━━━━━━━━━━━━\u001b[0m \u001b[32m22.9/22.9 MB\u001b[0m \u001b[31m61.8 MB/s\u001b[0m eta \u001b[36m0:00:00\u001b[0m\n",
            "\u001b[2K   \u001b[90m━━━━━━━━━━━━━━━━━━━━━━━━━━━━━━━━━━━━━━━━\u001b[0m \u001b[32m130.2/130.2 kB\u001b[0m \u001b[31m12.9 MB/s\u001b[0m eta \u001b[36m0:00:00\u001b[0m\n",
            "\u001b[2K   \u001b[90m━━━━━━━━━━━━━━━━━━━━━━━━━━━━━━━━━━━━━━━━\u001b[0m \u001b[32m12.3/12.3 MB\u001b[0m \u001b[31m99.3 MB/s\u001b[0m eta \u001b[36m0:00:00\u001b[0m\n",
            "\u001b[2K   \u001b[90m━━━━━━━━━━━━━━━━━━━━━━━━━━━━━━━━━━━━━━━━\u001b[0m \u001b[32m294.6/294.6 kB\u001b[0m \u001b[31m24.8 MB/s\u001b[0m eta \u001b[36m0:00:00\u001b[0m\n",
            "\u001b[2K   \u001b[90m━━━━━━━━━━━━━━━━━━━━━━━━━━━━━━━━━━━━━━━━\u001b[0m \u001b[32m346.6/346.6 kB\u001b[0m \u001b[31m28.0 MB/s\u001b[0m eta \u001b[36m0:00:00\u001b[0m\n",
            "\u001b[?25h\u001b[31mERROR: pip's dependency resolver does not currently take into account all the packages that are installed. This behaviour is the source of the following dependency conflicts.\n",
            "lida 0.0.10 requires fastapi, which is not installed.\n",
            "lida 0.0.10 requires kaleido, which is not installed.\n",
            "lida 0.0.10 requires python-multipart, which is not installed.\n",
            "lida 0.0.10 requires uvicorn, which is not installed.\n",
            "bigframes 0.18.0 requires pandas<2.1.4,>=1.5.0, but you have pandas 2.1.4 which is incompatible.\n",
            "google-colab 1.0.0 requires pandas==1.5.3, but you have pandas 2.1.4 which is incompatible.\n",
            "tensorboard 2.15.1 requires protobuf<4.24,>=3.19.6, but you have protobuf 4.25.1 which is incompatible.\n",
            "tensorflow-metadata 1.14.0 requires absl-py<2.0.0,>=0.9, but you have absl-py 2.0.0 which is incompatible.\n",
            "tensorflow-metadata 1.14.0 requires protobuf<4.21,>=3.20.3, but you have protobuf 4.25.1 which is incompatible.\u001b[0m\u001b[31m\n",
            "\u001b[0m\u001b[33mWARNING: Running pip as the 'root' user can result in broken permissions and conflicting behaviour with the system package manager. It is recommended to use a virtual environment instead: https://pip.pypa.io/warnings/venv\u001b[0m\u001b[33m\n",
            "\u001b[0m"
          ]
        }
      ],
      "source": [
        "# Notwendigen Programminstallationen\n",
        "# pip als Paketmanager\n",
        "!pip install -U -q pip\n",
        "!pip install -q ortools\n",
        "# Laden des Programms\n",
        "from ortools.linear_solver import pywraplp\n",
        "import pandas as pd"
      ]
    },
    {
      "cell_type": "code",
      "execution_count": 6,
      "metadata": {
        "id": "d8c0c7cc"
      },
      "outputs": [],
      "source": [
        "# Solver mit SCIP als Backend.\n",
        "# SCIP implementiert Simplex, Branch-and-Bound, etc\n",
        "solver = pywraplp.Solver.CreateSolver('SCIP')"
      ]
    },
    {
      "cell_type": "code",
      "source": [
        "! git clone https://github.com/AlexKressner/Industrielles_Management"
      ],
      "metadata": {
        "colab": {
          "base_uri": "https://localhost:8080/"
        },
        "id": "7MzXHG4B86Qx",
        "outputId": "82a4f727-6587-4177-f001-744dd27fb99e"
      },
      "execution_count": 7,
      "outputs": [
        {
          "output_type": "stream",
          "name": "stdout",
          "text": [
            "fatal: destination path 'Industrielles_Management' already exists and is not an empty directory.\n"
          ]
        }
      ]
    },
    {
      "cell_type": "code",
      "source": [
        "path = \"Industrielles_Management/Daten/MasterPlanning\""
      ],
      "metadata": {
        "id": "m_knWvLgTtYP"
      },
      "execution_count": 8,
      "outputs": []
    },
    {
      "cell_type": "code",
      "source": [
        "# Kapazitäten\n",
        "beschaffung_kapa = pd.read_csv(f\"{path}/Beschaffungskapazitäten.csv\", sep=\";\")\n",
        "produktion_kapa = pd.read_csv(f\"{path}/Produktionskapazitäten.csv\", sep=\";\")"
      ],
      "metadata": {
        "id": "uF0YYNBI8ILm"
      },
      "execution_count": 9,
      "outputs": []
    },
    {
      "cell_type": "code",
      "source": [
        "# Kosten\n",
        "produktion_kosten = pd.read_csv(f\"{path}/Produktionskosten.csv\", sep=\";\", decimal=\",\")\n",
        "beschaffung_kosten = pd.read_csv(f\"{path}/Beschaffungskosten.csv\", sep=\";\", decimal=\",\")\n",
        "lager_kosten = pd.read_csv(f\"{path}/Lagerkosten.csv\", sep=\";\", decimal=\",\")\n",
        "transport_beschaffung_kosten = pd.read_csv(f\"{path}/Transportkosten_Beschaffung.csv\", sep=\";\", decimal=\",\")\n",
        "transport_distribution_kosten = pd.read_csv(f\"{path}/Transportkosten_Distribution.csv\", sep=\";\", decimal=\",\")"
      ],
      "metadata": {
        "id": "NTSilRdI-_B5"
      },
      "execution_count": 10,
      "outputs": []
    },
    {
      "cell_type": "code",
      "source": [
        "# Direktbedarfskoeffizienten\n",
        "koeffizienten = pd.read_csv(f\"{path}/Direktbedarfskoeffizienten.csv\", sep=\";\", decimal=\",\")"
      ],
      "metadata": {
        "id": "B5B4psTSnc9C"
      },
      "execution_count": 11,
      "outputs": []
    },
    {
      "cell_type": "code",
      "source": [
        "# Nachfrage\n",
        "nachfrage = pd.read_csv(f\"{path}/Nachfrage.csv\", sep=\";\")"
      ],
      "metadata": {
        "id": "fDodTt1S_E7V"
      },
      "execution_count": 12,
      "outputs": []
    },
    {
      "cell_type": "markdown",
      "metadata": {
        "id": "798a67ee"
      },
      "source": [
        "## Indexmengen"
      ]
    },
    {
      "cell_type": "code",
      "source": [
        "I = produktion_kapa[\"Werk\"].unique().tolist() # Menge der Produktionsstandorte"
      ],
      "metadata": {
        "id": "goOwHnFj_ofs"
      },
      "execution_count": 13,
      "outputs": []
    },
    {
      "cell_type": "code",
      "execution_count": 14,
      "metadata": {
        "id": "f9e0fd6f"
      },
      "outputs": [],
      "source": [
        "J = nachfrage[\"Markt\"].unique().tolist() #Menge der Märkte"
      ]
    },
    {
      "cell_type": "code",
      "source": [
        "L = beschaffung_kapa[\"Lieferant\"].unique().tolist() # Menge der Lieferanten"
      ],
      "metadata": {
        "id": "p2M0U5RcZWjz"
      },
      "execution_count": 15,
      "outputs": []
    },
    {
      "cell_type": "code",
      "source": [
        "P = lager_kosten[\"Produkt\"].unique().tolist() # Menge der Produkte"
      ],
      "metadata": {
        "id": "ep4tx586Ze_f"
      },
      "execution_count": 16,
      "outputs": []
    },
    {
      "cell_type": "code",
      "source": [
        "VP = koeffizienten[\"Vorprodukt\"].unique().tolist() # Menge der Vorprodukte"
      ],
      "metadata": {
        "id": "iqY3icPuW7jj"
      },
      "execution_count": 17,
      "outputs": []
    },
    {
      "cell_type": "code",
      "source": [
        "FP = koeffizienten[\"Fertigprodukt\"].unique().tolist() # Menge der Fertigprodukte"
      ],
      "metadata": {
        "id": "-U0Bd_RKaoF0"
      },
      "execution_count": 18,
      "outputs": []
    },
    {
      "cell_type": "code",
      "source": [
        "A = {}\n",
        "for vp in koeffizienten[\"Vorprodukt\"].unique():\n",
        "  A[vp] = koeffizienten[koeffizienten[\"Vorprodukt\"]==vp][\"Fertigprodukt\"].tolist()"
      ],
      "metadata": {
        "id": "0USKjKQnr77U"
      },
      "execution_count": 19,
      "outputs": []
    },
    {
      "cell_type": "code",
      "source": [
        "T = beschaffung_kapa[\"Woche\"].unique().tolist() # Menge der Planungsperioden (Wochen)"
      ],
      "metadata": {
        "id": "IxhGizoPNrPB"
      },
      "execution_count": 20,
      "outputs": []
    },
    {
      "cell_type": "markdown",
      "metadata": {
        "id": "d1f9cf18"
      },
      "source": [
        "## Entscheidungsvariablen"
      ]
    },
    {
      "cell_type": "code",
      "source": [
        "infinity = solver.infinity()"
      ],
      "metadata": {
        "id": "KgIvlK2iAT_a"
      },
      "execution_count": null,
      "outputs": []
    },
    {
      "cell_type": "code",
      "source": [
        "# Beschaffungsmengen der jeweiligen Vorprodukte (Flasche und Vitaminwasser)\n",
        "Z={}\n",
        "for l in L:\n",
        "  for i in I:\n",
        "    for p in VP:\n",
        "      for t in T:\n",
        "        Z[l,i,p,t] = solver.NumVar(0.0, infinity, f\"{l},{i},{p},{t}\")"
      ],
      "metadata": {
        "id": "lbpazTPleD6g"
      },
      "execution_count": null,
      "outputs": []
    },
    {
      "cell_type": "code",
      "execution_count": null,
      "metadata": {
        "id": "afb847d3"
      },
      "outputs": [],
      "source": [
        "# Produktionsmenge Fertigprodukte\n",
        "X={}\n",
        "for i in I:\n",
        "  for t in T:\n",
        "    for p in FP:\n",
        "      X[i,p,t] = solver.NumVar(0.0, infinity, f\"{i},{p},{t}\")"
      ]
    },
    {
      "cell_type": "code",
      "source": [
        "# Distributionsmenge Fertigprodukte\n",
        "Y={}\n",
        "for i in I:\n",
        "  for j in J:\n",
        "    for t in T:\n",
        "      for p in FP:\n",
        "        Y[i,j,p,t] = solver.NumVar(0.0, infinity, f\"{i},{j},{p},{t}\")"
      ],
      "metadata": {
        "id": "wMAg4KPFb3Ol"
      },
      "execution_count": null,
      "outputs": []
    },
    {
      "cell_type": "code",
      "source": [
        "# Bestand von Produkt (Vor- und Fertigprodukt)\n",
        "B={}\n",
        "for i in I:\n",
        "  for p in P:\n",
        "    for t in T:\n",
        "      B[i,p,t] = solver.NumVar(0.0, infinity, f\"{i},{p},{t}\")"
      ],
      "metadata": {
        "id": "Bsht13r6Z4QR"
      },
      "execution_count": null,
      "outputs": []
    },
    {
      "cell_type": "code",
      "source": [
        "# Nutzung von Zusatzkapazitäten\n",
        "O={}\n",
        "for i in I:\n",
        "    for t in T:\n",
        "      O[i,t] = solver.NumVar(0.0, infinity, f\"{i},{t}\")"
      ],
      "metadata": {
        "id": "shc6t3DGPKBs"
      },
      "execution_count": null,
      "outputs": []
    },
    {
      "cell_type": "code",
      "source": [
        "print('Anzahl Entscheidungsvariablen =', solver.NumVariables())"
      ],
      "metadata": {
        "colab": {
          "base_uri": "https://localhost:8080/"
        },
        "id": "hN6GY-5YBA9Y",
        "outputId": "08112db1-f331-47b9-f42f-1280b6732002"
      },
      "execution_count": null,
      "outputs": [
        {
          "output_type": "stream",
          "name": "stdout",
          "text": [
            "Anzahl Entscheidungsvariablen = 360\n"
          ]
        }
      ]
    },
    {
      "cell_type": "markdown",
      "metadata": {
        "id": "b99b4ca0"
      },
      "source": [
        "## Parameter"
      ]
    },
    {
      "cell_type": "code",
      "source": [
        "# Produktionskosten\n",
        "pc = produktion_kosten.set_index([\"Werk\",\"Produkt\"]).to_dict(\"dict\")[\"Produktionskosten\"] # Kosten reguläre Produktion in €/ME\n",
        "oc = produktion_kosten.set_index([\"Werk\"]).to_dict(\"dict\")[\"Kosten_pro_Zusatzkapa\"] # Kosten Zusatzkapazitäten in €/Kapazitätseinheit"
      ],
      "metadata": {
        "id": "LnaXtWEACWoU"
      },
      "execution_count": null,
      "outputs": []
    },
    {
      "cell_type": "code",
      "source": [
        "# Beschaffungskosten\n",
        "beschaffung_kosten.set_index([\"Lieferant\",\"Produkt\"], inplace=True)\n",
        "bc = beschaffung_kosten.to_dict(\"dict\")[\"Beschaffungskosten\"] # Kosten der Beschaffung eines Produktes in €/ME"
      ],
      "metadata": {
        "id": "-k__H4DlP84P"
      },
      "execution_count": null,
      "outputs": []
    },
    {
      "cell_type": "code",
      "source": [
        "# Transportkosten\n",
        "transport_beschaffung_kosten.set_index([\"Lieferant\",\"Werk\",\"Produkt\"], inplace=True)\n",
        "btc = transport_beschaffung_kosten.to_dict(\"dict\")[\"Transportkosten\"] # Kosten Transport bei Beschaffung in €/ME\n",
        "transport_distribution_kosten.set_index([\"Werk\",\"Markt\",\"Produkt\"], inplace=True)\n",
        "dtc = transport_distribution_kosten.to_dict(\"dict\")[\"Transportkosten\"] # Kosten Transport bei Distribution in €/ME"
      ],
      "metadata": {
        "id": "YlWu7CMzDvfn"
      },
      "execution_count": null,
      "outputs": []
    },
    {
      "cell_type": "code",
      "source": [
        "# Lagerkosten\n",
        "lager_kosten.set_index([\"Produkt\"], inplace=True)\n",
        "lc = lager_kosten.to_dict(\"dict\")[\"Lagerkosten\"] # Kosten Lagerung in €/Woche/ME"
      ],
      "metadata": {
        "id": "QYV_zhQtS-Td"
      },
      "execution_count": null,
      "outputs": []
    },
    {
      "cell_type": "code",
      "source": [
        "# Nachfrage\n",
        "nachfrage.set_index([\"Markt\",\"Produkt\",\"Woche\"], inplace=True)\n",
        "d = nachfrage.to_dict(\"dict\")[\"Nachfragemenge\"]"
      ],
      "metadata": {
        "id": "QvTVt7VaD1fC"
      },
      "execution_count": null,
      "outputs": []
    },
    {
      "cell_type": "code",
      "source": [
        "# Direktbedarfskoeffiziente\n",
        "koeffizienten.set_index([\"Vorprodukt\",\"Fertigprodukt\"], inplace=True)\n",
        "a = koeffizienten.to_dict(\"dict\")[\"Direktbedarfskoeffizient\"]"
      ],
      "metadata": {
        "id": "QEISqxapofvx"
      },
      "execution_count": null,
      "outputs": []
    },
    {
      "cell_type": "code",
      "source": [
        "# Kapazitäten\n",
        "produktion_kapa.set_index([\"Werk\",\"Woche\"], inplace=True)\n",
        "pcap = produktion_kapa.to_dict(\"dict\")[\"Kapaztiät\"]\n",
        "pcap_plus = produktion_kapa.to_dict(\"dict\")[\"Max_Kapa_durch_Zusatzschichten\"]\n",
        "beschaffung_kapa.set_index([\"Lieferant\",\"Produkt\",\"Woche\"], inplace=True)\n",
        "bcap = beschaffung_kapa.to_dict(\"dict\")[\"Kapazität\"]"
      ],
      "metadata": {
        "id": "ejN0ixdyEQCw"
      },
      "execution_count": null,
      "outputs": []
    },
    {
      "cell_type": "markdown",
      "metadata": {
        "id": "c9eede10"
      },
      "source": [
        "## Zielfunktion"
      ]
    },
    {
      "cell_type": "markdown",
      "source": [
        "### Zielfunktion\n",
        "Min $K = \\sum_{l,i,p \\in VP,t} bc_{lp} * Z_{lipt} + \\sum_{l,i,p \\in VP,t} tbc_{lip} * Z_{lipt} + \\sum_{i,p \\in FP,t} pc_{ip} * X_{ipt} + \\sum_{i,p,t} lc_{p} * B_{ipt} + \\sum_{i,t} oc^+_{it} * O_{it} + \\sum_{i,j,p,t} dtc_{ijp} * Y_{ijpt}$"
      ],
      "metadata": {
        "id": "lT4f5UwcyzKS"
      }
    },
    {
      "cell_type": "code",
      "source": [
        "bc.get(('ErpoPlast', 'Vitaminwasser'),0)"
      ],
      "metadata": {
        "colab": {
          "base_uri": "https://localhost:8080/"
        },
        "id": "LI8rkIO3zCEP",
        "outputId": "61b10508-0800-44c6-8c8d-45eea02efa6f"
      },
      "execution_count": null,
      "outputs": [
        {
          "output_type": "execute_result",
          "data": {
            "text/plain": [
              "0"
            ]
          },
          "metadata": {},
          "execution_count": 31
        }
      ]
    },
    {
      "cell_type": "code",
      "execution_count": null,
      "metadata": {
        "id": "954d02bf"
      },
      "outputs": [],
      "source": [
        "# Minimierung der gesamten Kosten\n",
        "solver.Minimize(\n",
        "    sum(bc.get((l,p),0) * Z[l,i,p,t] for l in L for i in I for p in VP for t in T) + # Kosten Beschaffung\n",
        "    sum(btc.get((l,i,p),0) * Z[l,i,p,t] for l in L for i in I for p in VP for t in T) + # Transportkosten Beschaffung\n",
        "    sum(pc[i,p]*X[i,p,t] for i in I for p in FP for t in T) + # Kosten der Produktion mit regulärer Kapazität\n",
        "    sum(oc[i]*O[i,t] for i in I for t in T) + # Kosten der Produktion mit zusätzlicher Kapazität\n",
        "    sum(lc[p]*B[i,p,t] for i in I for p in P for t in T) + # Kosten der Lagerung\n",
        "    sum(dtc[i,j,p]*Y[i,j,p,t] for i in I for j in J for p in FP for t in T) # Transportkosten Distribution\n",
        "    )"
      ]
    },
    {
      "cell_type": "markdown",
      "metadata": {
        "id": "a8534816"
      },
      "source": [
        "## Nebenbedingungen"
      ]
    },
    {
      "cell_type": "markdown",
      "source": [
        "**(1) Lieferantenkapazitäten**\n",
        "\n",
        "$\\sum_{i} Z_{lipt} \\le bcap_{lpt}$\n",
        "\n",
        "$∀ l,p \\in VP, t$"
      ],
      "metadata": {
        "id": "El09g3Zwh1pt"
      }
    },
    {
      "cell_type": "code",
      "source": [
        "for l in L:\n",
        "  for p in VP:\n",
        "    for t in T:\n",
        "      solver.Add(sum(Z[l,i,p,t] for i in I)<= bcap.get((l,p,t),0))"
      ],
      "metadata": {
        "id": "0q4H4wEGh3zw"
      },
      "execution_count": null,
      "outputs": []
    },
    {
      "cell_type": "markdown",
      "source": [
        "**(2) Produktionskapazitäten**\n",
        "\n",
        "$\\sum_{p \\in FP} X_{ipt} \\le pcap_{it} + O_{it}$\n",
        "\n",
        "$∀ i, t$"
      ],
      "metadata": {
        "id": "359dUj_PiGwf"
      }
    },
    {
      "cell_type": "code",
      "source": [
        "for i in I:\n",
        "  for t in T:\n",
        "    solver.Add(sum(X[i,p,t] for p in FP) <= pcap[i,t] + O[i,t])"
      ],
      "metadata": {
        "id": "tHRFE139iIBv"
      },
      "execution_count": null,
      "outputs": []
    },
    {
      "cell_type": "markdown",
      "source": [
        "**(3) Beschränkung der Zusatzkapazitäten**\n",
        "\n",
        "$O_{it} \\le pcap^+_{it}$\n",
        "\n",
        "$∀ i, t$"
      ],
      "metadata": {
        "id": "oq1__uNxiShX"
      }
    },
    {
      "cell_type": "code",
      "source": [
        "for i in I:\n",
        "  for t in T:\n",
        "    solver.Add(O[i,t] <= pcap_plus[i,t])"
      ],
      "metadata": {
        "id": "zIF3XqSOiTAi"
      },
      "execution_count": null,
      "outputs": []
    },
    {
      "cell_type": "markdown",
      "source": [
        "**(4) Lagerbilanzgleichung für die Fertigprodukte**\n",
        "\n",
        "$B_{ipt} = B_{ip,t-1} + X_{ipt} - \\sum_j Y_{ijpt}$\n",
        "\n",
        "$∀ i,p \\in FP, t$"
      ],
      "metadata": {
        "id": "oPX0LIibijUg"
      }
    },
    {
      "cell_type": "code",
      "source": [
        "for i in I:\n",
        "  for p in FP:\n",
        "    for t in T:\n",
        "        solver.Add(B[i,p,t] == B.get((i,p,t-1),0) + X[i,p,t] - sum(Y[i,j,p,t] for j in J))"
      ],
      "metadata": {
        "id": "PyWmhQM3ij1T"
      },
      "execution_count": null,
      "outputs": []
    },
    {
      "cell_type": "markdown",
      "source": [
        "**(5) Lagerbilanzgleichung für die Vorprodukte**\n",
        "\n",
        "$B_{ipt} = B_{ip,t-1} + \\sum_l Z_{lipt} - \\sum_{p' \\in A_{p} } a_{pp'} * X_{ip't}$\n",
        "\n",
        "$∀ i,p \\in VP, t$"
      ],
      "metadata": {
        "id": "ck7OV3FTi7jG"
      }
    },
    {
      "cell_type": "code",
      "source": [
        "A[\"Flasche\"]"
      ],
      "metadata": {
        "colab": {
          "base_uri": "https://localhost:8080/"
        },
        "id": "0E2QDJ5f1zW9",
        "outputId": "82d2a289-7162-46f4-c577-1c30e4b06db2"
      },
      "execution_count": null,
      "outputs": [
        {
          "output_type": "execute_result",
          "data": {
            "text/plain": [
              "['Well']"
            ]
          },
          "metadata": {},
          "execution_count": 37
        }
      ]
    },
    {
      "cell_type": "code",
      "source": [
        "for i in I:\n",
        "  for p in VP:\n",
        "    for t in T:\n",
        "      solver.Add(B[i,p,t] == B.get((i,p,t-1),0) + sum(Z[l,i,p,t] for l in L) - sum(a[p,pp] * X[i,pp,t] for pp in A[p]))"
      ],
      "metadata": {
        "id": "1ulrpRvqi8Bn"
      },
      "execution_count": null,
      "outputs": []
    },
    {
      "cell_type": "markdown",
      "source": [
        "**(6) Nachfragebefriedigung**\n",
        "\n",
        "$\\sum_i Y_{ijpt} = d_{jpt}$\n",
        "\n",
        "$∀ j,p \\in FP, t$"
      ],
      "metadata": {
        "id": "Wg8dhPiBjPSd"
      }
    },
    {
      "cell_type": "code",
      "source": [
        "for j in J:\n",
        "  for t in T:\n",
        "    for p in FP:\n",
        "      solver.Add(sum(Y[i,j,p,t] for i in I) == d[j,p,t])"
      ],
      "metadata": {
        "id": "ZYJzH8eQjPzT"
      },
      "execution_count": null,
      "outputs": []
    },
    {
      "cell_type": "markdown",
      "metadata": {
        "id": "9a459618"
      },
      "source": [
        "## Berechnung Lösung"
      ]
    },
    {
      "cell_type": "code",
      "execution_count": null,
      "metadata": {
        "id": "b9005832",
        "colab": {
          "base_uri": "https://localhost:8080/"
        },
        "outputId": "a82cb3bb-4ad2-40b2-a228-62e6d1e05938"
      },
      "outputs": [
        {
          "output_type": "stream",
          "name": "stdout",
          "text": [
            "LÖSUNG:\n",
            "Zielfunktionswert (Kosten) = 30257.260000000002\n"
          ]
        }
      ],
      "source": [
        "status = solver.Solve()\n",
        "\n",
        "if status == pywraplp.Solver.OPTIMAL:\n",
        "    print('LÖSUNG:')\n",
        "    print('Zielfunktionswert (Kosten) =', solver.Objective().Value())\n",
        "else:\n",
        "    print('Problem hat keine Lösung')"
      ]
    },
    {
      "cell_type": "code",
      "execution_count": null,
      "metadata": {
        "id": "4d84da39",
        "colab": {
          "base_uri": "https://localhost:8080/"
        },
        "outputId": "14dff627-94ff-4674-8151-02766a32ef44"
      },
      "outputs": [
        {
          "output_type": "stream",
          "name": "stdout",
          "text": [
            "Woche: 1\n",
            "Werk Curitiba\n",
            "Produktion: 82\n",
            "Fertigwarenbestand: 0\n",
            "\t\n",
            "Werk Quanzhou\n",
            "Produktion: 250\n",
            "Fertigwarenbestand: 42\n",
            "\t\n",
            "Werk East London\n",
            "Produktion: 250\n",
            "Fertigwarenbestand: 0\n",
            "\t\n",
            "\n",
            "\n",
            "Woche: 2\n",
            "Werk Curitiba\n",
            "Produktion: 72\n",
            "Fertigwarenbestand: 2\n",
            "\t\n",
            "Werk Quanzhou\n",
            "Produktion: 253\n",
            "Fertigwarenbestand: 10\n",
            "\t\n",
            "Werk East London\n",
            "Produktion: 235\n",
            "Fertigwarenbestand: 0\n",
            "\t\n",
            "\n",
            "\n",
            "Woche: 3\n",
            "Werk Curitiba\n",
            "Produktion: 78\n",
            "Fertigwarenbestand: 0\n",
            "\t\n",
            "Werk Quanzhou\n",
            "Produktion: 168\n",
            "Fertigwarenbestand: 0\n",
            "\t\n",
            "Werk East London\n",
            "Produktion: 223\n",
            "Fertigwarenbestand: 0\n",
            "\t\n",
            "\n",
            "\n",
            "Woche: 4\n",
            "Fertigwarenbestand: 0\n",
            "\t\n",
            "Werk Quanzhou\n",
            "Produktion: 212\n",
            "Fertigwarenbestand: 22\n",
            "\t\n",
            "Werk East London\n",
            "Produktion: 218\n",
            "Fertigwarenbestand: 0\n",
            "\t\n",
            "\n",
            "\n",
            "Woche: 5\n",
            "Werk Curitiba\n",
            "Produktion: 123\n",
            "Fertigwarenbestand: 0\n",
            "\t\n",
            "Werk Quanzhou\n",
            "Produktion: 150\n",
            "Fertigwarenbestand: 0\n",
            "\t\n",
            "Werk East London\n",
            "Produktion: 275\n",
            "Fertigwarenbestand: 0\n",
            "\t\n",
            "\n",
            "\n"
          ]
        }
      ],
      "source": [
        "for t in T:\n",
        "  print(f\"Woche: {t}\")\n",
        "  for i in I:\n",
        "    for p in FP:\n",
        "      val = round(X[i,p,t].solution_value())\n",
        "    if val > 0:\n",
        "      print(f\"Werk {i}\")\n",
        "      print(f\"Produktion: {val}\")\n",
        "    print(f\"Fertigwarenbestand: {round(B[i,p,t].solution_value())}\")\n",
        "    print(\"\\t\")\n",
        "  print(\"\\n\")\n"
      ]
    },
    {
      "cell_type": "code",
      "source": [],
      "metadata": {
        "id": "VTBSqfQPiK7H"
      },
      "execution_count": null,
      "outputs": []
    }
  ]
}