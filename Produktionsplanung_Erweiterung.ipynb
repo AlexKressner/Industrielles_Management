{
  "nbformat": 4,
  "nbformat_minor": 0,
  "metadata": {
    "colab": {
      "provenance": [],
      "collapsed_sections": [
        "FznCQVc5-wbh",
        "D87-db6w-wKF",
        "ZriT_5GT_wQL",
        "lUZoqj8e-wBa",
        "8T1IHcjpUBoZ",
        "b99b4ca0",
        "c9eede10",
        "lT4f5UwcyzKS",
        "a8534816",
        "9a459618"
      ],
      "authorship_tag": "ABX9TyMvUHUD082Pp3+Cr8t7BFyE",
      "include_colab_link": true
    },
    "kernelspec": {
      "name": "python3",
      "display_name": "Python 3"
    },
    "language_info": {
      "name": "python"
    }
  },
  "cells": [
    {
      "cell_type": "markdown",
      "metadata": {
        "id": "view-in-github",
        "colab_type": "text"
      },
      "source": [
        "<a href=\"https://colab.research.google.com/github/AlexKressner/Industrielles_Management/blob/main/Produktionsplanung_Erweiterung.ipynb\" target=\"_parent\"><img src=\"https://colab.research.google.com/assets/colab-badge.svg\" alt=\"Open In Colab\"/></a>"
      ]
    },
    {
      "cell_type": "markdown",
      "metadata": {
        "id": "b2fc884d"
      },
      "source": [
        "# Produktionsplanung\n",
        "## Capacitated Lot Sizing Problem (CLSP)"
      ]
    },
    {
      "cell_type": "markdown",
      "source": [
        "## Modell"
      ],
      "metadata": {
        "id": "eV_cjbhd-c2I"
      }
    },
    {
      "cell_type": "markdown",
      "source": [
        "### Indexmengen\n",
        "$p \\in P$ : Menge der Produkte\n",
        "\n",
        "$t \\in T$ : Menge der Planungsperioden (Wochen)\n",
        "\n"
      ],
      "metadata": {
        "id": "FznCQVc5-wbh"
      }
    },
    {
      "cell_type": "markdown",
      "source": [
        "### Parameter\n",
        "$cap_t$ : Kapazität der Abfüllanlage in Woche $t$\n",
        "\n",
        "$lc_{p}$ : Lagerkosten für Produkt $p$\n",
        "\n",
        "$rc_{p}$ : Rüstkosten für Produkt $k$\n",
        "\n",
        "$bz_p$ : Bearbeitungszeit für Produkt $p$\n",
        "\n",
        "$rz_{pp'}$ : Zeit für Umrüsten von Produkt $p$ auf Produkt $p'$\n",
        "\n",
        "$d_{pt}$ : Nachfrage nach Produkt $p$ in Woche $t$\n",
        "\n",
        "$s_{p}$ : Anfänglicher Rüstzustand"
      ],
      "metadata": {
        "id": "D87-db6w-wKF"
      }
    },
    {
      "cell_type": "markdown",
      "source": [
        "### Variablen\n",
        "$Q_{pt} \\ge 0$ : Produktionsmenge von Produkt $p$ in Woche $t$\n",
        "\n",
        "$B_{pt} \\ge 0$ : Lagerbestand von Produkt $p$ in Woche $t$\n",
        "\n",
        "$R_{pp't} \\in \\{0,1\\}$ : Binäre Rüstvariable\n",
        "\n",
        "$S_{pt} \\in \\{0,1\\}$ : Rüstzustandsvariable"
      ],
      "metadata": {
        "id": "ZriT_5GT_wQL"
      }
    },
    {
      "cell_type": "markdown",
      "source": [
        "### Zielfunktion\n",
        "Min $K = \\sum_{p,p',t} rc_{p'} * R_{p,p',t} + \\sum_{p,t} lc_p * B_{pt}$"
      ],
      "metadata": {
        "id": "lUZoqj8e-wBa"
      }
    },
    {
      "cell_type": "markdown",
      "source": [
        "### Nebenbedingungen"
      ],
      "metadata": {
        "id": "2x-xiFCP-v0l"
      }
    },
    {
      "cell_type": "markdown",
      "source": [
        "**(1) Lagerbilanzgleichung**\n",
        "\n",
        "$B_{pt} = B_{p,t-1} + Q_{pt} - d_{pt}$\n",
        "\n",
        "$∀ p, t$"
      ],
      "metadata": {
        "id": "6u_OSabxCAyB"
      }
    },
    {
      "cell_type": "markdown",
      "source": [
        "**(2) Produktionskapazitäten**\n",
        "\n",
        "$\\sum_{p} bz_p * Q_{pt} + \\sum_{p,p'} rz_{pp'} * R_{pp't} \\le pcap_{t}$\n",
        "\n",
        "$∀ t$"
      ],
      "metadata": {
        "id": "hK_iqilARrsU"
      }
    },
    {
      "cell_type": "markdown",
      "source": [
        "**(3) Koppelung Produktions- mit Rüstentscheidung**\n",
        "\n",
        "$Q_{pt} \\le \\frac{cap_t}{bz_p} * S_{pt} $\n",
        "\n",
        "$∀ p, t$"
      ],
      "metadata": {
        "id": "fUhgNqZVSLHd"
      }
    },
    {
      "cell_type": "markdown",
      "source": [
        "**(4) Koppelung Rüstentscheidung mit Rüstzustand**\n",
        "\n",
        "$R_{pp't} \\ge S_{p't} + S_{p,t-1} -1 $\n",
        "\n",
        "$∀ p,p', t$"
      ],
      "metadata": {
        "id": "Az86aBvCMwQz"
      }
    },
    {
      "cell_type": "markdown",
      "source": [
        "**(5) Eindeutiger Rüstzustand**\n",
        "\n",
        "$\\sum_{p} S_{pt} = 1 $\n",
        "\n",
        "$∀ t$"
      ],
      "metadata": {
        "id": "t0euWqPMNY9p"
      }
    },
    {
      "cell_type": "markdown",
      "source": [
        "## Implementierung"
      ],
      "metadata": {
        "id": "8T1IHcjpUBoZ"
      }
    },
    {
      "cell_type": "code",
      "execution_count": null,
      "metadata": {
        "id": "cdb29647",
        "colab": {
          "base_uri": "https://localhost:8080/"
        },
        "outputId": "b2e4f8cc-06cd-496b-8c77-f30bed6a945c"
      },
      "outputs": [
        {
          "output_type": "stream",
          "name": "stdout",
          "text": [
            "\u001b[33mWARNING: Running pip as the 'root' user can result in broken permissions and conflicting behaviour with the system package manager. It is recommended to use a virtual environment instead: https://pip.pypa.io/warnings/venv\u001b[0m\u001b[33m\n",
            "\u001b[0m\u001b[33mWARNING: Running pip as the 'root' user can result in broken permissions and conflicting behaviour with the system package manager. It is recommended to use a virtual environment instead: https://pip.pypa.io/warnings/venv\u001b[0m\u001b[33m\n",
            "\u001b[0m"
          ]
        }
      ],
      "source": [
        "# Notwendigen Programminstallationen\n",
        "# pip als Paketmanager\n",
        "!pip install -U -q pip\n",
        "!pip install -q ortools\n",
        "# Laden des Programms\n",
        "from ortools.linear_solver import pywraplp"
      ]
    },
    {
      "cell_type": "code",
      "execution_count": null,
      "metadata": {
        "id": "d8c0c7cc"
      },
      "outputs": [],
      "source": [
        "# Solver mit SCIP als Backend.\n",
        "# SCIP implementiert Simplex, Branch-and-Bound, etc\n",
        "solver = pywraplp.Solver.CreateSolver('SCIP')"
      ]
    },
    {
      "cell_type": "markdown",
      "source": [
        "## Datenaufbereitung\n",
        "\n",
        "\n",
        "1.   Problemrelevante Daten in Google-Drive laden\n",
        "2.   Google-Drive mit Colab-Notebook verbinden\n",
        "3.   Daten mit `pandas` laden\n",
        "\n"
      ],
      "metadata": {
        "id": "muy4OW--8Dp5"
      }
    },
    {
      "cell_type": "code",
      "source": [
        "from google.colab import drive\n",
        "drive.mount('/content/drive')"
      ],
      "metadata": {
        "id": "DkkKC0dg82Cc",
        "colab": {
          "base_uri": "https://localhost:8080/"
        },
        "outputId": "8f815c9b-dab9-434c-a1b2-342ee8cfb6d3"
      },
      "execution_count": null,
      "outputs": [
        {
          "output_type": "stream",
          "name": "stdout",
          "text": [
            "Drive already mounted at /content/drive; to attempt to forcibly remount, call drive.mount(\"/content/drive\", force_remount=True).\n"
          ]
        }
      ]
    },
    {
      "cell_type": "code",
      "source": [
        "# Ordner finden\n",
        "! ls drive/MyDrive/Industrielles_Management/Daten/Produktionsplanung"
      ],
      "metadata": {
        "id": "7MzXHG4B86Qx",
        "colab": {
          "base_uri": "https://localhost:8080/"
        },
        "outputId": "a6a8965c-6ef3-4baf-839c-ecce03f6c829"
      },
      "execution_count": null,
      "outputs": [
        {
          "output_type": "stream",
          "name": "stdout",
          "text": [
            "Erweiterung_Nachfrage.csv   Kosten_Zeiten.csv\n",
            "Erweiterung_Rüstzeiten.csv  Nachfrage.csv\n"
          ]
        }
      ]
    },
    {
      "cell_type": "code",
      "source": [
        "# Pfad zurückgeben\n",
        "! cd drive/MyDrive/Industrielles_Management/Daten/Produktionsplanung && pwd"
      ],
      "metadata": {
        "id": "kkXWmM2i-OB3",
        "colab": {
          "base_uri": "https://localhost:8080/"
        },
        "outputId": "96b6d0ea-ed52-4558-8e78-f540ce673e61"
      },
      "execution_count": null,
      "outputs": [
        {
          "output_type": "stream",
          "name": "stdout",
          "text": [
            "/content/drive/MyDrive/Industrielles_Management/Daten/Produktionsplanung\n"
          ]
        }
      ]
    },
    {
      "cell_type": "code",
      "source": [
        "# Daten laden\n",
        "import pandas as pd"
      ],
      "metadata": {
        "id": "2-oi6YL28FEt"
      },
      "execution_count": null,
      "outputs": []
    },
    {
      "cell_type": "code",
      "source": [
        "path = \"/content/drive/MyDrive/Industrielles_Management/Daten/Produktionsplanung\""
      ],
      "metadata": {
        "id": "m_knWvLgTtYP"
      },
      "execution_count": null,
      "outputs": []
    },
    {
      "cell_type": "code",
      "source": [
        "# Nachfrage\n",
        "nachfrage = pd.read_csv(f\"{path}/Erweiterung_Nachfrage.csv\", sep=\";\")"
      ],
      "metadata": {
        "id": "uF0YYNBI8ILm"
      },
      "execution_count": null,
      "outputs": []
    },
    {
      "cell_type": "code",
      "source": [
        "nachfrage.head()"
      ],
      "metadata": {
        "id": "EkihB5ZxIavj",
        "colab": {
          "base_uri": "https://localhost:8080/",
          "height": 204
        },
        "outputId": "1f0df018-da36-4c97-f65a-9413d7534369"
      },
      "execution_count": null,
      "outputs": [
        {
          "output_type": "execute_result",
          "data": {
            "text/plain": [
              "  Produkt  Tag  Nachfrage\n",
              "0    Well    1          0\n",
              "1    Well    2          0\n",
              "2    Well    3          0\n",
              "3    Well    4          0\n",
              "4    Well    5          0"
            ],
            "text/html": [
              "\n",
              "  <div id=\"df-156374fe-54e8-4527-bd52-8419ebfbbf4b\">\n",
              "    <div class=\"colab-df-container\">\n",
              "      <div>\n",
              "<style scoped>\n",
              "    .dataframe tbody tr th:only-of-type {\n",
              "        vertical-align: middle;\n",
              "    }\n",
              "\n",
              "    .dataframe tbody tr th {\n",
              "        vertical-align: top;\n",
              "    }\n",
              "\n",
              "    .dataframe thead th {\n",
              "        text-align: right;\n",
              "    }\n",
              "</style>\n",
              "<table border=\"1\" class=\"dataframe\">\n",
              "  <thead>\n",
              "    <tr style=\"text-align: right;\">\n",
              "      <th></th>\n",
              "      <th>Produkt</th>\n",
              "      <th>Tag</th>\n",
              "      <th>Nachfrage</th>\n",
              "    </tr>\n",
              "  </thead>\n",
              "  <tbody>\n",
              "    <tr>\n",
              "      <th>0</th>\n",
              "      <td>Well</td>\n",
              "      <td>1</td>\n",
              "      <td>0</td>\n",
              "    </tr>\n",
              "    <tr>\n",
              "      <th>1</th>\n",
              "      <td>Well</td>\n",
              "      <td>2</td>\n",
              "      <td>0</td>\n",
              "    </tr>\n",
              "    <tr>\n",
              "      <th>2</th>\n",
              "      <td>Well</td>\n",
              "      <td>3</td>\n",
              "      <td>0</td>\n",
              "    </tr>\n",
              "    <tr>\n",
              "      <th>3</th>\n",
              "      <td>Well</td>\n",
              "      <td>4</td>\n",
              "      <td>0</td>\n",
              "    </tr>\n",
              "    <tr>\n",
              "      <th>4</th>\n",
              "      <td>Well</td>\n",
              "      <td>5</td>\n",
              "      <td>0</td>\n",
              "    </tr>\n",
              "  </tbody>\n",
              "</table>\n",
              "</div>\n",
              "      <button class=\"colab-df-convert\" onclick=\"convertToInteractive('df-156374fe-54e8-4527-bd52-8419ebfbbf4b')\"\n",
              "              title=\"Convert this dataframe to an interactive table.\"\n",
              "              style=\"display:none;\">\n",
              "        \n",
              "  <svg xmlns=\"http://www.w3.org/2000/svg\" height=\"24px\"viewBox=\"0 0 24 24\"\n",
              "       width=\"24px\">\n",
              "    <path d=\"M0 0h24v24H0V0z\" fill=\"none\"/>\n",
              "    <path d=\"M18.56 5.44l.94 2.06.94-2.06 2.06-.94-2.06-.94-.94-2.06-.94 2.06-2.06.94zm-11 1L8.5 8.5l.94-2.06 2.06-.94-2.06-.94L8.5 2.5l-.94 2.06-2.06.94zm10 10l.94 2.06.94-2.06 2.06-.94-2.06-.94-.94-2.06-.94 2.06-2.06.94z\"/><path d=\"M17.41 7.96l-1.37-1.37c-.4-.4-.92-.59-1.43-.59-.52 0-1.04.2-1.43.59L10.3 9.45l-7.72 7.72c-.78.78-.78 2.05 0 2.83L4 21.41c.39.39.9.59 1.41.59.51 0 1.02-.2 1.41-.59l7.78-7.78 2.81-2.81c.8-.78.8-2.07 0-2.86zM5.41 20L4 18.59l7.72-7.72 1.47 1.35L5.41 20z\"/>\n",
              "  </svg>\n",
              "      </button>\n",
              "      \n",
              "  <style>\n",
              "    .colab-df-container {\n",
              "      display:flex;\n",
              "      flex-wrap:wrap;\n",
              "      gap: 12px;\n",
              "    }\n",
              "\n",
              "    .colab-df-convert {\n",
              "      background-color: #E8F0FE;\n",
              "      border: none;\n",
              "      border-radius: 50%;\n",
              "      cursor: pointer;\n",
              "      display: none;\n",
              "      fill: #1967D2;\n",
              "      height: 32px;\n",
              "      padding: 0 0 0 0;\n",
              "      width: 32px;\n",
              "    }\n",
              "\n",
              "    .colab-df-convert:hover {\n",
              "      background-color: #E2EBFA;\n",
              "      box-shadow: 0px 1px 2px rgba(60, 64, 67, 0.3), 0px 1px 3px 1px rgba(60, 64, 67, 0.15);\n",
              "      fill: #174EA6;\n",
              "    }\n",
              "\n",
              "    [theme=dark] .colab-df-convert {\n",
              "      background-color: #3B4455;\n",
              "      fill: #D2E3FC;\n",
              "    }\n",
              "\n",
              "    [theme=dark] .colab-df-convert:hover {\n",
              "      background-color: #434B5C;\n",
              "      box-shadow: 0px 1px 3px 1px rgba(0, 0, 0, 0.15);\n",
              "      filter: drop-shadow(0px 1px 2px rgba(0, 0, 0, 0.3));\n",
              "      fill: #FFFFFF;\n",
              "    }\n",
              "  </style>\n",
              "\n",
              "      <script>\n",
              "        const buttonEl =\n",
              "          document.querySelector('#df-156374fe-54e8-4527-bd52-8419ebfbbf4b button.colab-df-convert');\n",
              "        buttonEl.style.display =\n",
              "          google.colab.kernel.accessAllowed ? 'block' : 'none';\n",
              "\n",
              "        async function convertToInteractive(key) {\n",
              "          const element = document.querySelector('#df-156374fe-54e8-4527-bd52-8419ebfbbf4b');\n",
              "          const dataTable =\n",
              "            await google.colab.kernel.invokeFunction('convertToInteractive',\n",
              "                                                     [key], {});\n",
              "          if (!dataTable) return;\n",
              "\n",
              "          const docLinkHtml = 'Like what you see? Visit the ' +\n",
              "            '<a target=\"_blank\" href=https://colab.research.google.com/notebooks/data_table.ipynb>data table notebook</a>'\n",
              "            + ' to learn more about interactive tables.';\n",
              "          element.innerHTML = '';\n",
              "          dataTable['output_type'] = 'display_data';\n",
              "          await google.colab.output.renderOutput(dataTable, element);\n",
              "          const docLink = document.createElement('div');\n",
              "          docLink.innerHTML = docLinkHtml;\n",
              "          element.appendChild(docLink);\n",
              "        }\n",
              "      </script>\n",
              "    </div>\n",
              "  </div>\n",
              "  "
            ]
          },
          "metadata": {},
          "execution_count": 116
        }
      ]
    },
    {
      "cell_type": "code",
      "source": [
        "# Kosten & Zeiten\n",
        "kosten_zeiten = pd.read_csv(f\"{path}/Kosten_Zeiten.csv\", sep=\";\", decimal=\",\")"
      ],
      "metadata": {
        "id": "NTSilRdI-_B5"
      },
      "execution_count": null,
      "outputs": []
    },
    {
      "cell_type": "code",
      "source": [
        "kosten_zeiten"
      ],
      "metadata": {
        "id": "SOEzklioIbzb",
        "colab": {
          "base_uri": "https://localhost:8080/",
          "height": 204
        },
        "outputId": "040430ba-63f7-4ccd-cb8d-320f2c82a336"
      },
      "execution_count": null,
      "outputs": [
        {
          "output_type": "execute_result",
          "data": {
            "text/plain": [
              "  Produkt  Rüstkosten  Lagerkosten  Rüstzeit  Bearbeitungszeit\n",
              "0    Well         100            3       420                 1\n",
              "1  BraTee         250            5       700                 2\n",
              "2  HafTee         200            6       560                 1\n",
              "3  DirTee         150            4       560                 3\n",
              "4   StraB         250            3      1400                 2"
            ],
            "text/html": [
              "\n",
              "  <div id=\"df-206c3292-c997-4642-b606-d62ec0bb8b36\">\n",
              "    <div class=\"colab-df-container\">\n",
              "      <div>\n",
              "<style scoped>\n",
              "    .dataframe tbody tr th:only-of-type {\n",
              "        vertical-align: middle;\n",
              "    }\n",
              "\n",
              "    .dataframe tbody tr th {\n",
              "        vertical-align: top;\n",
              "    }\n",
              "\n",
              "    .dataframe thead th {\n",
              "        text-align: right;\n",
              "    }\n",
              "</style>\n",
              "<table border=\"1\" class=\"dataframe\">\n",
              "  <thead>\n",
              "    <tr style=\"text-align: right;\">\n",
              "      <th></th>\n",
              "      <th>Produkt</th>\n",
              "      <th>Rüstkosten</th>\n",
              "      <th>Lagerkosten</th>\n",
              "      <th>Rüstzeit</th>\n",
              "      <th>Bearbeitungszeit</th>\n",
              "    </tr>\n",
              "  </thead>\n",
              "  <tbody>\n",
              "    <tr>\n",
              "      <th>0</th>\n",
              "      <td>Well</td>\n",
              "      <td>100</td>\n",
              "      <td>3</td>\n",
              "      <td>420</td>\n",
              "      <td>1</td>\n",
              "    </tr>\n",
              "    <tr>\n",
              "      <th>1</th>\n",
              "      <td>BraTee</td>\n",
              "      <td>250</td>\n",
              "      <td>5</td>\n",
              "      <td>700</td>\n",
              "      <td>2</td>\n",
              "    </tr>\n",
              "    <tr>\n",
              "      <th>2</th>\n",
              "      <td>HafTee</td>\n",
              "      <td>200</td>\n",
              "      <td>6</td>\n",
              "      <td>560</td>\n",
              "      <td>1</td>\n",
              "    </tr>\n",
              "    <tr>\n",
              "      <th>3</th>\n",
              "      <td>DirTee</td>\n",
              "      <td>150</td>\n",
              "      <td>4</td>\n",
              "      <td>560</td>\n",
              "      <td>3</td>\n",
              "    </tr>\n",
              "    <tr>\n",
              "      <th>4</th>\n",
              "      <td>StraB</td>\n",
              "      <td>250</td>\n",
              "      <td>3</td>\n",
              "      <td>1400</td>\n",
              "      <td>2</td>\n",
              "    </tr>\n",
              "  </tbody>\n",
              "</table>\n",
              "</div>\n",
              "      <button class=\"colab-df-convert\" onclick=\"convertToInteractive('df-206c3292-c997-4642-b606-d62ec0bb8b36')\"\n",
              "              title=\"Convert this dataframe to an interactive table.\"\n",
              "              style=\"display:none;\">\n",
              "        \n",
              "  <svg xmlns=\"http://www.w3.org/2000/svg\" height=\"24px\"viewBox=\"0 0 24 24\"\n",
              "       width=\"24px\">\n",
              "    <path d=\"M0 0h24v24H0V0z\" fill=\"none\"/>\n",
              "    <path d=\"M18.56 5.44l.94 2.06.94-2.06 2.06-.94-2.06-.94-.94-2.06-.94 2.06-2.06.94zm-11 1L8.5 8.5l.94-2.06 2.06-.94-2.06-.94L8.5 2.5l-.94 2.06-2.06.94zm10 10l.94 2.06.94-2.06 2.06-.94-2.06-.94-.94-2.06-.94 2.06-2.06.94z\"/><path d=\"M17.41 7.96l-1.37-1.37c-.4-.4-.92-.59-1.43-.59-.52 0-1.04.2-1.43.59L10.3 9.45l-7.72 7.72c-.78.78-.78 2.05 0 2.83L4 21.41c.39.39.9.59 1.41.59.51 0 1.02-.2 1.41-.59l7.78-7.78 2.81-2.81c.8-.78.8-2.07 0-2.86zM5.41 20L4 18.59l7.72-7.72 1.47 1.35L5.41 20z\"/>\n",
              "  </svg>\n",
              "      </button>\n",
              "      \n",
              "  <style>\n",
              "    .colab-df-container {\n",
              "      display:flex;\n",
              "      flex-wrap:wrap;\n",
              "      gap: 12px;\n",
              "    }\n",
              "\n",
              "    .colab-df-convert {\n",
              "      background-color: #E8F0FE;\n",
              "      border: none;\n",
              "      border-radius: 50%;\n",
              "      cursor: pointer;\n",
              "      display: none;\n",
              "      fill: #1967D2;\n",
              "      height: 32px;\n",
              "      padding: 0 0 0 0;\n",
              "      width: 32px;\n",
              "    }\n",
              "\n",
              "    .colab-df-convert:hover {\n",
              "      background-color: #E2EBFA;\n",
              "      box-shadow: 0px 1px 2px rgba(60, 64, 67, 0.3), 0px 1px 3px 1px rgba(60, 64, 67, 0.15);\n",
              "      fill: #174EA6;\n",
              "    }\n",
              "\n",
              "    [theme=dark] .colab-df-convert {\n",
              "      background-color: #3B4455;\n",
              "      fill: #D2E3FC;\n",
              "    }\n",
              "\n",
              "    [theme=dark] .colab-df-convert:hover {\n",
              "      background-color: #434B5C;\n",
              "      box-shadow: 0px 1px 3px 1px rgba(0, 0, 0, 0.15);\n",
              "      filter: drop-shadow(0px 1px 2px rgba(0, 0, 0, 0.3));\n",
              "      fill: #FFFFFF;\n",
              "    }\n",
              "  </style>\n",
              "\n",
              "      <script>\n",
              "        const buttonEl =\n",
              "          document.querySelector('#df-206c3292-c997-4642-b606-d62ec0bb8b36 button.colab-df-convert');\n",
              "        buttonEl.style.display =\n",
              "          google.colab.kernel.accessAllowed ? 'block' : 'none';\n",
              "\n",
              "        async function convertToInteractive(key) {\n",
              "          const element = document.querySelector('#df-206c3292-c997-4642-b606-d62ec0bb8b36');\n",
              "          const dataTable =\n",
              "            await google.colab.kernel.invokeFunction('convertToInteractive',\n",
              "                                                     [key], {});\n",
              "          if (!dataTable) return;\n",
              "\n",
              "          const docLinkHtml = 'Like what you see? Visit the ' +\n",
              "            '<a target=\"_blank\" href=https://colab.research.google.com/notebooks/data_table.ipynb>data table notebook</a>'\n",
              "            + ' to learn more about interactive tables.';\n",
              "          element.innerHTML = '';\n",
              "          dataTable['output_type'] = 'display_data';\n",
              "          await google.colab.output.renderOutput(dataTable, element);\n",
              "          const docLink = document.createElement('div');\n",
              "          docLink.innerHTML = docLinkHtml;\n",
              "          element.appendChild(docLink);\n",
              "        }\n",
              "      </script>\n",
              "    </div>\n",
              "  </div>\n",
              "  "
            ]
          },
          "metadata": {},
          "execution_count": 118
        }
      ]
    },
    {
      "cell_type": "code",
      "source": [
        "# Reihenfolgeabhängige Rüstzeiten\n",
        "rüstzeiten = pd.read_csv(f\"{path}/Erweiterung_Rüstzeiten.csv\", sep=\";\", decimal=\",\")"
      ],
      "metadata": {
        "id": "uRr7RYV9k2WY"
      },
      "execution_count": null,
      "outputs": []
    },
    {
      "cell_type": "code",
      "source": [
        "rüstzeiten.head()"
      ],
      "metadata": {
        "colab": {
          "base_uri": "https://localhost:8080/",
          "height": 204
        },
        "id": "zUBKhSntlAHQ",
        "outputId": "57e6f2d0-4688-4e2d-ec47-9064a979a7e3"
      },
      "execution_count": null,
      "outputs": [
        {
          "output_type": "execute_result",
          "data": {
            "text/plain": [
              "  Produkt_Von Produkt_Zu  Rüstzeit\n",
              "0        Well       Well         0\n",
              "1        Well     BraTee        42\n",
              "2        Well     HafTee        42\n",
              "3        Well     DirTee        42\n",
              "4        Well      StraB        35"
            ],
            "text/html": [
              "\n",
              "  <div id=\"df-faace10d-f725-4399-81a3-9ef3ba7327ca\">\n",
              "    <div class=\"colab-df-container\">\n",
              "      <div>\n",
              "<style scoped>\n",
              "    .dataframe tbody tr th:only-of-type {\n",
              "        vertical-align: middle;\n",
              "    }\n",
              "\n",
              "    .dataframe tbody tr th {\n",
              "        vertical-align: top;\n",
              "    }\n",
              "\n",
              "    .dataframe thead th {\n",
              "        text-align: right;\n",
              "    }\n",
              "</style>\n",
              "<table border=\"1\" class=\"dataframe\">\n",
              "  <thead>\n",
              "    <tr style=\"text-align: right;\">\n",
              "      <th></th>\n",
              "      <th>Produkt_Von</th>\n",
              "      <th>Produkt_Zu</th>\n",
              "      <th>Rüstzeit</th>\n",
              "    </tr>\n",
              "  </thead>\n",
              "  <tbody>\n",
              "    <tr>\n",
              "      <th>0</th>\n",
              "      <td>Well</td>\n",
              "      <td>Well</td>\n",
              "      <td>0</td>\n",
              "    </tr>\n",
              "    <tr>\n",
              "      <th>1</th>\n",
              "      <td>Well</td>\n",
              "      <td>BraTee</td>\n",
              "      <td>42</td>\n",
              "    </tr>\n",
              "    <tr>\n",
              "      <th>2</th>\n",
              "      <td>Well</td>\n",
              "      <td>HafTee</td>\n",
              "      <td>42</td>\n",
              "    </tr>\n",
              "    <tr>\n",
              "      <th>3</th>\n",
              "      <td>Well</td>\n",
              "      <td>DirTee</td>\n",
              "      <td>42</td>\n",
              "    </tr>\n",
              "    <tr>\n",
              "      <th>4</th>\n",
              "      <td>Well</td>\n",
              "      <td>StraB</td>\n",
              "      <td>35</td>\n",
              "    </tr>\n",
              "  </tbody>\n",
              "</table>\n",
              "</div>\n",
              "      <button class=\"colab-df-convert\" onclick=\"convertToInteractive('df-faace10d-f725-4399-81a3-9ef3ba7327ca')\"\n",
              "              title=\"Convert this dataframe to an interactive table.\"\n",
              "              style=\"display:none;\">\n",
              "        \n",
              "  <svg xmlns=\"http://www.w3.org/2000/svg\" height=\"24px\"viewBox=\"0 0 24 24\"\n",
              "       width=\"24px\">\n",
              "    <path d=\"M0 0h24v24H0V0z\" fill=\"none\"/>\n",
              "    <path d=\"M18.56 5.44l.94 2.06.94-2.06 2.06-.94-2.06-.94-.94-2.06-.94 2.06-2.06.94zm-11 1L8.5 8.5l.94-2.06 2.06-.94-2.06-.94L8.5 2.5l-.94 2.06-2.06.94zm10 10l.94 2.06.94-2.06 2.06-.94-2.06-.94-.94-2.06-.94 2.06-2.06.94z\"/><path d=\"M17.41 7.96l-1.37-1.37c-.4-.4-.92-.59-1.43-.59-.52 0-1.04.2-1.43.59L10.3 9.45l-7.72 7.72c-.78.78-.78 2.05 0 2.83L4 21.41c.39.39.9.59 1.41.59.51 0 1.02-.2 1.41-.59l7.78-7.78 2.81-2.81c.8-.78.8-2.07 0-2.86zM5.41 20L4 18.59l7.72-7.72 1.47 1.35L5.41 20z\"/>\n",
              "  </svg>\n",
              "      </button>\n",
              "      \n",
              "  <style>\n",
              "    .colab-df-container {\n",
              "      display:flex;\n",
              "      flex-wrap:wrap;\n",
              "      gap: 12px;\n",
              "    }\n",
              "\n",
              "    .colab-df-convert {\n",
              "      background-color: #E8F0FE;\n",
              "      border: none;\n",
              "      border-radius: 50%;\n",
              "      cursor: pointer;\n",
              "      display: none;\n",
              "      fill: #1967D2;\n",
              "      height: 32px;\n",
              "      padding: 0 0 0 0;\n",
              "      width: 32px;\n",
              "    }\n",
              "\n",
              "    .colab-df-convert:hover {\n",
              "      background-color: #E2EBFA;\n",
              "      box-shadow: 0px 1px 2px rgba(60, 64, 67, 0.3), 0px 1px 3px 1px rgba(60, 64, 67, 0.15);\n",
              "      fill: #174EA6;\n",
              "    }\n",
              "\n",
              "    [theme=dark] .colab-df-convert {\n",
              "      background-color: #3B4455;\n",
              "      fill: #D2E3FC;\n",
              "    }\n",
              "\n",
              "    [theme=dark] .colab-df-convert:hover {\n",
              "      background-color: #434B5C;\n",
              "      box-shadow: 0px 1px 3px 1px rgba(0, 0, 0, 0.15);\n",
              "      filter: drop-shadow(0px 1px 2px rgba(0, 0, 0, 0.3));\n",
              "      fill: #FFFFFF;\n",
              "    }\n",
              "  </style>\n",
              "\n",
              "      <script>\n",
              "        const buttonEl =\n",
              "          document.querySelector('#df-faace10d-f725-4399-81a3-9ef3ba7327ca button.colab-df-convert');\n",
              "        buttonEl.style.display =\n",
              "          google.colab.kernel.accessAllowed ? 'block' : 'none';\n",
              "\n",
              "        async function convertToInteractive(key) {\n",
              "          const element = document.querySelector('#df-faace10d-f725-4399-81a3-9ef3ba7327ca');\n",
              "          const dataTable =\n",
              "            await google.colab.kernel.invokeFunction('convertToInteractive',\n",
              "                                                     [key], {});\n",
              "          if (!dataTable) return;\n",
              "\n",
              "          const docLinkHtml = 'Like what you see? Visit the ' +\n",
              "            '<a target=\"_blank\" href=https://colab.research.google.com/notebooks/data_table.ipynb>data table notebook</a>'\n",
              "            + ' to learn more about interactive tables.';\n",
              "          element.innerHTML = '';\n",
              "          dataTable['output_type'] = 'display_data';\n",
              "          await google.colab.output.renderOutput(dataTable, element);\n",
              "          const docLink = document.createElement('div');\n",
              "          docLink.innerHTML = docLinkHtml;\n",
              "          element.appendChild(docLink);\n",
              "        }\n",
              "      </script>\n",
              "    </div>\n",
              "  </div>\n",
              "  "
            ]
          },
          "metadata": {},
          "execution_count": 120
        }
      ]
    },
    {
      "cell_type": "code",
      "source": [
        "s = {}\n",
        "s[\"Well\"] = 1"
      ],
      "metadata": {
        "id": "ksuIB0um5Zwr"
      },
      "execution_count": null,
      "outputs": []
    },
    {
      "cell_type": "markdown",
      "metadata": {
        "id": "798a67ee"
      },
      "source": [
        "## Indexmengen"
      ]
    },
    {
      "cell_type": "code",
      "source": [
        "P = nachfrage[\"Produkt\"].unique().tolist() # Menge der Produkte"
      ],
      "metadata": {
        "id": "ep4tx586Ze_f"
      },
      "execution_count": null,
      "outputs": []
    },
    {
      "cell_type": "code",
      "source": [
        "T = nachfrage[\"Tag\"].unique().tolist() # Menge der Planungsperioden (Tage)"
      ],
      "metadata": {
        "id": "IxhGizoPNrPB"
      },
      "execution_count": null,
      "outputs": []
    },
    {
      "cell_type": "markdown",
      "metadata": {
        "id": "d1f9cf18"
      },
      "source": [
        "## Entscheidungsvariablen"
      ]
    },
    {
      "cell_type": "code",
      "source": [
        "infinity = solver.infinity()"
      ],
      "metadata": {
        "id": "KgIvlK2iAT_a"
      },
      "execution_count": null,
      "outputs": []
    },
    {
      "cell_type": "code",
      "source": [
        "# Produktionsmengen\n",
        "Q={}\n",
        "for p in P:\n",
        "  for t in T:\n",
        "    Q[p,t] = solver.NumVar(0.0, infinity, f\"{p},{t}\")"
      ],
      "metadata": {
        "id": "lbpazTPleD6g"
      },
      "execution_count": null,
      "outputs": []
    },
    {
      "cell_type": "code",
      "execution_count": null,
      "metadata": {
        "id": "afb847d3"
      },
      "outputs": [],
      "source": [
        "# Lagerbestand\n",
        "B={}\n",
        "for p in P:\n",
        "  for t in T:\n",
        "    B[p,t] = solver.NumVar(0.0, infinity, f\"{p},{t}\")"
      ]
    },
    {
      "cell_type": "code",
      "source": [
        "# Rüstvariablen\n",
        "R={}\n",
        "for p in P:\n",
        "  for pp in P:\n",
        "    for t in T:\n",
        "      R[p,pp,t] = solver.BoolVar(f\"{p},{pp},{t}\")"
      ],
      "metadata": {
        "id": "wMAg4KPFb3Ol"
      },
      "execution_count": null,
      "outputs": []
    },
    {
      "cell_type": "code",
      "source": [
        "# Rüstzustand\n",
        "S={}\n",
        "for p in P:\n",
        "  for t in T:\n",
        "    S[p,t] = solver.BoolVar(f\"{p},{t}\")"
      ],
      "metadata": {
        "id": "d4YQeGs-ldvJ"
      },
      "execution_count": null,
      "outputs": []
    },
    {
      "cell_type": "code",
      "source": [
        "print('Anzahl Entscheidungsvariablen =', solver.NumVariables())"
      ],
      "metadata": {
        "id": "hN6GY-5YBA9Y",
        "colab": {
          "base_uri": "https://localhost:8080/"
        },
        "outputId": "8ebac2f5-2375-44b1-d210-f1dc4e4cc9eb"
      },
      "execution_count": null,
      "outputs": [
        {
          "output_type": "stream",
          "name": "stdout",
          "text": [
            "Anzahl Entscheidungsvariablen = 1200\n"
          ]
        }
      ]
    },
    {
      "cell_type": "markdown",
      "metadata": {
        "id": "b99b4ca0"
      },
      "source": [
        "## Parameter"
      ]
    },
    {
      "cell_type": "code",
      "source": [
        "# Kosten\n",
        "lc = kosten_zeiten.set_index([\"Produkt\"]).to_dict(\"dict\")[\"Lagerkosten\"]\n",
        "rc = kosten_zeiten.set_index([\"Produkt\"]).to_dict(\"dict\")[\"Rüstkosten\"]"
      ],
      "metadata": {
        "id": "LnaXtWEACWoU"
      },
      "execution_count": null,
      "outputs": []
    },
    {
      "cell_type": "code",
      "source": [
        "# Zeiten\n",
        "bz = kosten_zeiten.set_index([\"Produkt\"]).to_dict(\"dict\")[\"Bearbeitungszeit\"]\n",
        "rz = rüstzeiten.set_index([\"Produkt_Von\",\"Produkt_Zu\"]).to_dict(\"dict\")[\"Rüstzeit\"]"
      ],
      "metadata": {
        "id": "-k__H4DlP84P"
      },
      "execution_count": null,
      "outputs": []
    },
    {
      "cell_type": "code",
      "source": [
        "# Nachfrage\n",
        "d = nachfrage.set_index([\"Produkt\",\"Tag\"]).to_dict(\"dict\")[\"Nachfrage\"]"
      ],
      "metadata": {
        "id": "QvTVt7VaD1fC"
      },
      "execution_count": null,
      "outputs": []
    },
    {
      "cell_type": "code",
      "source": [
        "# Kapazitäten\n",
        "cap = {}\n",
        "for t in T:\n",
        "  cap[t] = 960"
      ],
      "metadata": {
        "id": "ejN0ixdyEQCw"
      },
      "execution_count": null,
      "outputs": []
    },
    {
      "cell_type": "markdown",
      "metadata": {
        "id": "c9eede10"
      },
      "source": [
        "## Zielfunktion"
      ]
    },
    {
      "cell_type": "markdown",
      "source": [
        "### Zielfunktion\n",
        "Min $K = \\sum_{p,p',t} rc_{p'} * R_{p,p',t} + \\sum_{p,t} lc_p * B_{pt}$"
      ],
      "metadata": {
        "id": "lT4f5UwcyzKS"
      }
    },
    {
      "cell_type": "code",
      "execution_count": null,
      "metadata": {
        "id": "954d02bf"
      },
      "outputs": [],
      "source": [
        "# Minimierung der gesamten Kosten\n",
        "solver.Minimize(sum(rc[pp] * R[p,pp,t] for p in P for pp in P for t in T) + sum(lc[p] * B[p,t] for p in P for t in T))"
      ]
    },
    {
      "cell_type": "markdown",
      "metadata": {
        "id": "a8534816"
      },
      "source": [
        "## Nebenbedingungen"
      ]
    },
    {
      "cell_type": "markdown",
      "source": [
        "**(1) Lagerbilanzgleichung**\n",
        "\n",
        "$B_{pt} = B_{p,t-1} + Q_{pt} - d_{pt}$\n",
        "\n",
        "$∀ p, t$"
      ],
      "metadata": {
        "id": "El09g3Zwh1pt"
      }
    },
    {
      "cell_type": "code",
      "source": [
        "for p in P:\n",
        "  for t in T:\n",
        "    solver.Add(B[p,t] == B.get((p,t-1),0) + Q[p,t] - d[p,t])"
      ],
      "metadata": {
        "id": "0q4H4wEGh3zw"
      },
      "execution_count": null,
      "outputs": []
    },
    {
      "cell_type": "markdown",
      "source": [
        "**(2) Produktionskapazitäten**\n",
        "\n",
        "$\\sum_{p} bz_p * Q_{pt} + \\sum_{p,p'} rz_{pp'} * R_{pp't} \\le pcap_{t}$\n",
        "\n",
        "$∀ t$"
      ],
      "metadata": {
        "id": "359dUj_PiGwf"
      }
    },
    {
      "cell_type": "code",
      "source": [
        "for t in T:\n",
        "  solver.Add(sum(bz[p] * Q[p,t] for p in P) + sum(rz[p,pp] * R[p,pp,t] for p in P for pp in P) <= cap[t])"
      ],
      "metadata": {
        "id": "tHRFE139iIBv"
      },
      "execution_count": null,
      "outputs": []
    },
    {
      "cell_type": "markdown",
      "source": [
        "**(3) Koppelung Produktions- mit Rüstentscheidung**\n",
        "\n",
        "$Q_{pt} \\le \\frac{cap_t}{bz_p} * S_{pt} $\n",
        "\n",
        "$∀ p, t$"
      ],
      "metadata": {
        "id": "oq1__uNxiShX"
      }
    },
    {
      "cell_type": "code",
      "source": [
        "for p in P:\n",
        "  for t in T:\n",
        "    solver.Add(Q[p,t] <= (cap[t]/bz[p]) * S[p,t])"
      ],
      "metadata": {
        "id": "zIF3XqSOiTAi"
      },
      "execution_count": null,
      "outputs": []
    },
    {
      "cell_type": "markdown",
      "source": [
        "**(4) Koppelung Rüstentscheidung mit Rüstzustand**\n",
        "\n",
        "$R_{pp't} \\ge S_{p't} + S_{p,t-1} -1 $\n",
        "\n",
        "$∀ p,p', t$"
      ],
      "metadata": {
        "id": "EoC7gAoixifV"
      }
    },
    {
      "cell_type": "code",
      "source": [
        "for p in P:\n",
        "  for pp in P:\n",
        "    for t in T:\n",
        "      if t > 1:\n",
        "        solver.Add(R[p,pp,t] >= S[pp,t] + S[p,t-1] - 1)\n",
        "      else:\n",
        "        solver.Add(R[p,pp,t] >= S[pp,t] + s.get(p,0) - 1)"
      ],
      "metadata": {
        "id": "AkuEh-nvxhru"
      },
      "execution_count": null,
      "outputs": []
    },
    {
      "cell_type": "markdown",
      "source": [
        "**(5) Eindeutiger Rüstzustand**\n",
        "\n",
        "$\\sum_{p} S_{pt} = 1 $\n",
        "\n",
        "$∀ t$"
      ],
      "metadata": {
        "id": "Uj_46cYvx13f"
      }
    },
    {
      "cell_type": "code",
      "source": [
        "for t in T:\n",
        "  solver.Add(sum(S[p,t] for p in P) == 1)"
      ],
      "metadata": {
        "id": "caJpB7bmx4sw"
      },
      "execution_count": null,
      "outputs": []
    },
    {
      "cell_type": "markdown",
      "metadata": {
        "id": "9a459618"
      },
      "source": [
        "## Berechnung Lösung"
      ]
    },
    {
      "cell_type": "code",
      "execution_count": null,
      "metadata": {
        "id": "b9005832",
        "colab": {
          "base_uri": "https://localhost:8080/"
        },
        "outputId": "9c1306d4-d73a-4566-ea55-a7ea8534be50"
      },
      "outputs": [
        {
          "output_type": "stream",
          "name": "stdout",
          "text": [
            "LÖSUNG:\n",
            "Zielfunktionswert (Kosten) = 63980.999999999985\n"
          ]
        }
      ],
      "source": [
        "status = solver.Solve()\n",
        "\n",
        "if status == pywraplp.Solver.OPTIMAL:\n",
        "    print('LÖSUNG:')\n",
        "    print('Zielfunktionswert (Kosten) =', solver.Objective().Value())\n",
        "else:\n",
        "    print('Problem hat keine Lösung')"
      ]
    },
    {
      "cell_type": "code",
      "execution_count": null,
      "metadata": {
        "id": "4d84da39",
        "colab": {
          "base_uri": "https://localhost:8080/"
        },
        "outputId": "d558dbb4-218b-435d-a991-3689fc19af47"
      },
      "outputs": [
        {
          "output_type": "stream",
          "name": "stdout",
          "text": [
            "Tag: 1\n",
            "Produktionszeit: 0\n",
            "Rüstzeit: 0\n",
            "Summe: 0\n",
            "\n",
            "\n",
            "Tag: 2\n",
            "Produktionszeit: 0\n",
            "Rüstzeit: 0\n",
            "Summe: 0\n",
            "\n",
            "\n",
            "Tag: 3\n",
            "Produktionszeit: 0\n",
            "Rüstzeit: 0\n",
            "Summe: 0\n",
            "\n",
            "\n",
            "Tag: 4\n",
            "Produktionszeit: 140\n",
            "Rüstzeit: 0\n",
            "Summe: 140\n",
            "\n",
            "\n",
            "Tag: 5\n",
            "Produktionszeit: 70\n",
            "Rüstzeit: 42\n",
            "Summe: 112\n",
            "\n",
            "\n",
            "Tag: 6\n",
            "Produktionszeit: 560\n",
            "Rüstzeit: 25\n",
            "Summe: 585\n",
            "\n",
            "\n",
            "Tag: 7\n",
            "Produktionszeit: 0\n",
            "Rüstzeit: 215\n",
            "Summe: 215\n",
            "\n",
            "\n",
            "Tag: 8\n",
            "Produktionszeit: 140\n",
            "Rüstzeit: 42\n",
            "Summe: 182\n",
            "\n",
            "\n",
            "Tag: 9\n",
            "Produktionszeit: 350\n",
            "Rüstzeit: 70\n",
            "Summe: 420\n",
            "\n",
            "\n",
            "Tag: 10\n",
            "Produktionszeit: 720\n",
            "Rüstzeit: 42\n",
            "Summe: 762\n",
            "\n",
            "\n",
            "Tag: 11\n",
            "Produktionszeit: 960\n",
            "Rüstzeit: 0\n",
            "Summe: 960\n",
            "\n",
            "\n",
            "Tag: 12\n",
            "Produktionszeit: 630\n",
            "Rüstzeit: 30\n",
            "Summe: 660\n",
            "\n",
            "\n",
            "Tag: 13\n",
            "Produktionszeit: 140\n",
            "Rüstzeit: 25\n",
            "Summe: 165\n",
            "\n",
            "\n",
            "Tag: 14\n",
            "Produktionszeit: 202\n",
            "Rüstzeit: 185\n",
            "Summe: 387\n",
            "\n",
            "\n",
            "Tag: 15\n",
            "Produktionszeit: 840\n",
            "Rüstzeit: 30\n",
            "Summe: 870\n",
            "\n",
            "\n",
            "Tag: 16\n",
            "Produktionszeit: 420\n",
            "Rüstzeit: 70\n",
            "Summe: 490\n",
            "\n",
            "\n",
            "Tag: 17\n",
            "Produktionszeit: 918\n",
            "Rüstzeit: 42\n",
            "Summe: 960\n",
            "\n",
            "\n",
            "Tag: 18\n",
            "Produktionszeit: 420\n",
            "Rüstzeit: 30\n",
            "Summe: 450\n",
            "\n",
            "\n",
            "Tag: 19\n",
            "Produktionszeit: 222\n",
            "Rüstzeit: 30\n",
            "Summe: 252\n",
            "\n",
            "\n",
            "Tag: 20\n",
            "Produktionszeit: 485\n",
            "Rüstzeit: 25\n",
            "Summe: 510\n",
            "\n",
            "\n",
            "Tag: 21\n",
            "Produktionszeit: 280\n",
            "Rüstzeit: 185\n",
            "Summe: 465\n",
            "\n",
            "\n",
            "Tag: 22\n",
            "Produktionszeit: 930\n",
            "Rüstzeit: 30\n",
            "Summe: 960\n",
            "\n",
            "\n",
            "Tag: 23\n",
            "Produktionszeit: 440\n",
            "Rüstzeit: 70\n",
            "Summe: 510\n",
            "\n",
            "\n",
            "Tag: 24\n",
            "Produktionszeit: 960\n",
            "Rüstzeit: 0\n",
            "Summe: 960\n",
            "\n",
            "\n",
            "Tag: 25\n",
            "Produktionszeit: 918\n",
            "Rüstzeit: 42\n",
            "Summe: 960\n",
            "\n",
            "\n",
            "Tag: 26\n",
            "Produktionszeit: 960\n",
            "Rüstzeit: 0\n",
            "Summe: 960\n",
            "\n",
            "\n",
            "Tag: 27\n",
            "Produktionszeit: 960\n",
            "Rüstzeit: 0\n",
            "Summe: 960\n",
            "\n",
            "\n",
            "Tag: 28\n",
            "Produktionszeit: 935\n",
            "Rüstzeit: 25\n",
            "Summe: 960\n",
            "\n",
            "\n",
            "Tag: 29\n",
            "Produktionszeit: 960\n",
            "Rüstzeit: 0\n",
            "Summe: 960\n",
            "\n",
            "\n",
            "Tag: 30\n",
            "Produktionszeit: 560\n",
            "Rüstzeit: 185\n",
            "Summe: 745\n",
            "\n",
            "\n"
          ]
        }
      ],
      "source": [
        "for t in T:\n",
        "  print(f\"Tag: {t}\")\n",
        "  produzieren = sum(bz[p] * Q[p,t].solution_value() for p in P)\n",
        "  rüsten = sum(rz[p,pp] * R[p,pp,t].solution_value() for p in P for pp in P)\n",
        "  print(f\"Produktionszeit: {round(produzieren)}\")\n",
        "  print(f\"Rüstzeit: {round(rüsten)}\")\n",
        "  print(f\"Summe: {round(rüsten+produzieren)}\")\n",
        "\n",
        "  print(\"\\n\")\n"
      ]
    },
    {
      "cell_type": "code",
      "source": [],
      "metadata": {
        "id": "VTBSqfQPiK7H"
      },
      "execution_count": null,
      "outputs": []
    }
  ]
}