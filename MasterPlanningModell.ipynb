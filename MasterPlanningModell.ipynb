{
  "nbformat": 4,
  "nbformat_minor": 0,
  "metadata": {
    "colab": {
      "provenance": [],
      "authorship_tag": "ABX9TyP8h2iFzu759zdMchFdtog0",
      "include_colab_link": true
    },
    "kernelspec": {
      "name": "python3",
      "display_name": "Python 3"
    },
    "language_info": {
      "name": "python"
    }
  },
  "cells": [
    {
      "cell_type": "markdown",
      "metadata": {
        "id": "view-in-github",
        "colab_type": "text"
      },
      "source": [
        "<a href=\"https://colab.research.google.com/github/AlexKressner/Industrielles_Management/blob/main/MasterPlanningModell.ipynb\" target=\"_parent\"><img src=\"https://colab.research.google.com/assets/colab-badge.svg\" alt=\"Open In Colab\"/></a>"
      ]
    },
    {
      "cell_type": "markdown",
      "metadata": {
        "id": "b2fc884d"
      },
      "source": [
        "# Master Planning"
      ]
    },
    {
      "cell_type": "markdown",
      "source": [
        "## Modell"
      ],
      "metadata": {
        "id": "eV_cjbhd-c2I"
      }
    },
    {
      "cell_type": "markdown",
      "source": [
        "### Indexmengen\n",
        "$l \\in L$ : Menge der Lieferanten\n",
        "\n",
        "$i \\in I$ : Menge der Produktionsstandorte\n",
        "\n",
        "$j \\in J$ : Menge der Märkte\n",
        "\n",
        "$t \\in T$ : Menge der Wochen\n",
        "\n",
        "$p \\in P$ : Menge der Produkte\n",
        "\n",
        "$VP \\subseteq P$ : Menge der Vorprodukte\n",
        "\n",
        "$FP \\subseteq P$ : Menge der Fertigprodukte\n",
        "\n",
        "Es gilt $P=VP \\cup FP$ und $VP \\cap FP = \\emptyset$\n",
        "\n",
        "$A_p$ : Menge der Fertigprodukte, die Vorprodukt $p \\in VP$ enthalten\n",
        "\n"
      ],
      "metadata": {
        "id": "FznCQVc5-wbh"
      }
    },
    {
      "cell_type": "markdown",
      "source": [
        "### Variablen\n",
        "$Z_{lipt} \\ge 0$ : Beschaffungsmenge von Produkt $p$ bei Lieferant $l$ für Werk $i$ in Woche $t$\n",
        "\n",
        "$X_{ipt} \\ge 0$ : Produktionsmenge von Produkt $p$ am Werk $i$ in Woche $t$\n",
        "\n",
        "$O_{it} \\ge 0$ : Nutzung zusätzlicher Kapazitäten im Werk $i$ in Woche $t$\n",
        "\n",
        "$B_{ipt} \\ge 0$ : Bestand von Produkt $p$ im Werk $i$ in Woche $t$\n",
        "\n",
        "$Y_{ijpt} \\ge 0$ : Distributionsmenge von Werk $i$ in Markt $j$ von Produkt $p$ in Woche $t$"
      ],
      "metadata": {
        "id": "oubo97tD-wTd"
      }
    },
    {
      "cell_type": "markdown",
      "source": [
        "### Parameter\n",
        "\n",
        "$bc_{lp}$ : Kosten für die Beschaffung von Produkt $p$ von Lieferant $l$\n",
        "\n",
        "$btc_{lip}$ : Kosten für den Transport von Produkt $p$ von Lieferant $l$ zum Werk $i$\n",
        "\n",
        "$lc_{p}$ : Lagerkosten für Produkt $p$\n",
        "\n",
        "$pc_{ip}$ : Kosten für die Produktion von Produkt $p$ im Werk $i$\n",
        "\n",
        "$dtc_{ijp}$ : Kosten für den Transport von Produkt $p$ von Werk $i$ zum Markt $j$\n",
        "\n",
        "$oc^+_{i}$ : Kosten für Nutzung zusätzlicher Kapazitäten im Werk $i$\n",
        "\n",
        "$a_{pp'}$ : Direktbedarfskoeffizient Fertigprodukt $p'\\in FP$ für Vorprodukt $p \\in VP$, d.h wie viele Einheiten von Vorprodukt $p$ benötige ich zur Herstellung von Fertigprodukt $p'$\n",
        "\n",
        "$bcap_{lpt}$ : Beschaffungskapazitäten von Liefernant $l$ von Produkt $p$ in Woche $t$\n",
        "\n",
        "$pcap_{it}$ : Produktionskapazitäten von Werk $i$ in Woche $t$\n",
        "\n",
        "$pcap^+_{it}$ : Zusätzliche Produktionskapazitäten von Werk $i$ in Woche $t$\n",
        "\n",
        "$d_{jpt}$ : Nachfrage im Markt $j$ nach Produkt $p$ in Woche $t$"
      ],
      "metadata": {
        "id": "D87-db6w-wKF"
      }
    },
    {
      "cell_type": "markdown",
      "source": [
        "### Zielfunktion\n",
        "Min $K = \\sum_{l,i,p \\in VP,t} bc_{lp} * Z_{lipt} + \\sum_{l,i,p \\in VP,t} tbc_{lip} * Z_{lipt} + \\sum_{i,p \\in FP,t} pc_{ip} * X_{ipt} + \\sum_{i,p,t} lc_{p} * B_{ipt} + \\sum_{i,t} oc^+_{it} * O_{it} + \\sum_{i,j,p,t} dtc_{ijp} * Y_{ijpt}$"
      ],
      "metadata": {
        "id": "lUZoqj8e-wBa"
      }
    },
    {
      "cell_type": "markdown",
      "source": [
        "### Nebenbedingungen"
      ],
      "metadata": {
        "id": "2x-xiFCP-v0l"
      }
    },
    {
      "cell_type": "markdown",
      "source": [
        "**(1) Lieferantenkapazitäten**\n",
        "\n",
        "$\\sum_{i} Z_{lipt} \\le bcap_{lpt}$\n",
        "\n",
        "$∀ l,p \\in VP, t$\n"
      ],
      "metadata": {
        "id": "pTHXCyiH-fm5"
      }
    },
    {
      "cell_type": "markdown",
      "source": [
        "**(2) Produktionskapazitäten**\n",
        "\n",
        "$\\sum_{p \\in FP} X_{ipt} \\le pcap_{it} + O_{it}$\n",
        "\n",
        "$∀ i, t$"
      ],
      "metadata": {
        "id": "hK_iqilARrsU"
      }
    },
    {
      "cell_type": "markdown",
      "source": [
        "**(3) Beschränkung der Zusatzkapazitäten**\n",
        "\n",
        "$O_{it} \\le pcap^+_{it}$\n",
        "\n",
        "$∀ i, t$"
      ],
      "metadata": {
        "id": "fUhgNqZVSLHd"
      }
    },
    {
      "cell_type": "markdown",
      "source": [
        "**(4) Lagerbilanzgleichung für die Fertigprodukte**\n",
        "\n",
        "$B_{ipt} = B_{ip,t-1} + X_{ipt} - \\sum_j Y_{ijpt}$\n",
        "\n",
        "$∀ i,p \\in FP, t$"
      ],
      "metadata": {
        "id": "xXVmuyUXSbdP"
      }
    },
    {
      "cell_type": "markdown",
      "source": [
        "**(5) Lagerbilanzgleichung für die Vorprodukte**\n",
        "\n",
        "$B_{ipt} = B_{ip,t-1} + \\sum_l Z_{lipt} - \\sum_{p' \\in A_{p} } a_{pp'} * X_{ip't}$\n",
        "\n",
        "$∀ i,p \\in VP, t$"
      ],
      "metadata": {
        "id": "CouBBLECS--A"
      }
    },
    {
      "cell_type": "markdown",
      "source": [
        "**(6) Nachfragebefriedigung**\n",
        "\n",
        "$\\sum_i Y_{ijpt} = d_{jpt}$\n",
        "\n",
        "$∀ j,p \\in FP, t$"
      ],
      "metadata": {
        "id": "sEGkYUzsTZjH"
      }
    }
  ]
}