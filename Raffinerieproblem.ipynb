{
  "nbformat": 4,
  "nbformat_minor": 0,
  "metadata": {
    "colab": {
      "provenance": [],
      "authorship_tag": "ABX9TyPgs5ho7+I6ggyCAYRqyoBv",
      "include_colab_link": true
    },
    "kernelspec": {
      "name": "python3",
      "display_name": "Python 3"
    },
    "language_info": {
      "name": "python"
    }
  },
  "cells": [
    {
      "cell_type": "markdown",
      "metadata": {
        "id": "view-in-github",
        "colab_type": "text"
      },
      "source": [
        "<a href=\"https://colab.research.google.com/github/AlexKressner/Industrielles_Management/blob/main/Raffinerieproblem.ipynb\" target=\"_parent\"><img src=\"https://colab.research.google.com/assets/colab-badge.svg\" alt=\"Open In Colab\"/></a>"
      ]
    },
    {
      "cell_type": "markdown",
      "metadata": {
        "id": "b2fc884d"
      },
      "source": [
        "# Raffinerieproblem"
      ]
    },
    {
      "cell_type": "code",
      "execution_count": 36,
      "metadata": {
        "id": "cdb29647",
        "outputId": "b87a2287-2a53-43ca-d400-b195dda943a4",
        "colab": {
          "base_uri": "https://localhost:8080/"
        }
      },
      "outputs": [
        {
          "output_type": "stream",
          "name": "stdout",
          "text": [
            "\u001b[33mWARNING: Running pip as the 'root' user can result in broken permissions and conflicting behaviour with the system package manager. It is recommended to use a virtual environment instead: https://pip.pypa.io/warnings/venv\u001b[0m\u001b[33m\n",
            "\u001b[0m\u001b[33mWARNING: Running pip as the 'root' user can result in broken permissions and conflicting behaviour with the system package manager. It is recommended to use a virtual environment instead: https://pip.pypa.io/warnings/venv\u001b[0m\u001b[33m\n",
            "\u001b[0m"
          ]
        }
      ],
      "source": [
        "# Notwendigen Programminstallationen\n",
        "# pip als Paketmanager\n",
        "!pip install -U -q pip\n",
        "!pip install -q ortools\n",
        "# Laden des Programms\n",
        "from ortools.linear_solver import pywraplp"
      ]
    },
    {
      "cell_type": "code",
      "execution_count": 37,
      "metadata": {
        "id": "d8c0c7cc"
      },
      "outputs": [],
      "source": [
        "# Solver mit SCIP als Backend.\n",
        "# SCIP implementiert Simplex, Branch-and-Bound, etc\n",
        "solver = pywraplp.Solver.CreateSolver('SCIP')"
      ]
    },
    {
      "cell_type": "markdown",
      "metadata": {
        "id": "798a67ee"
      },
      "source": [
        "## Indexmengen"
      ]
    },
    {
      "cell_type": "code",
      "execution_count": 38,
      "metadata": {
        "id": "f9e0fd6f"
      },
      "outputs": [],
      "source": [
        "J = ['K1','K2','K3', 'K4'] # Menge der Kraftstoffe\n",
        "I = ['R1','R2','R3','G'] # Menge der Produktionsressourcen"
      ]
    },
    {
      "cell_type": "markdown",
      "metadata": {
        "id": "d1f9cf18"
      },
      "source": [
        "## Entscheidungsvariablen"
      ]
    },
    {
      "cell_type": "code",
      "execution_count": 39,
      "metadata": {
        "id": "f874ee25"
      },
      "outputs": [],
      "source": [
        "infinity = solver.infinity()"
      ]
    },
    {
      "cell_type": "code",
      "source": [
        "J"
      ],
      "metadata": {
        "id": "xbh0qq0BVnex",
        "outputId": "8a9f7112-8a8c-4510-97ea-66fab1d5fbed",
        "colab": {
          "base_uri": "https://localhost:8080/"
        }
      },
      "execution_count": 40,
      "outputs": [
        {
          "output_type": "execute_result",
          "data": {
            "text/plain": [
              "['K1', 'K2', 'K3', 'K4']"
            ]
          },
          "metadata": {},
          "execution_count": 40
        }
      ]
    },
    {
      "cell_type": "code",
      "execution_count": 41,
      "metadata": {
        "id": "afb847d3",
        "outputId": "92e3ae69-f114-40c2-9ba7-775fda6796a8",
        "colab": {
          "base_uri": "https://localhost:8080/"
        }
      },
      "outputs": [
        {
          "output_type": "stream",
          "name": "stdout",
          "text": [
            "Anzahl Entscheidungsvariablen = 4\n"
          ]
        }
      ],
      "source": [
        "# Definition der Entscheidungsvariablen\n",
        "x={}\n",
        "for j in J:\n",
        "    x[j] = solver.NumVar(0.0, infinity, j)\n",
        "print('Anzahl Entscheidungsvariablen =', solver.NumVariables())"
      ]
    },
    {
      "cell_type": "code",
      "source": [
        "x"
      ],
      "metadata": {
        "id": "r1DfX5L2VuoN",
        "outputId": "5e1b5697-75f8-460b-b451-1430283ac224",
        "colab": {
          "base_uri": "https://localhost:8080/"
        }
      },
      "execution_count": 42,
      "outputs": [
        {
          "output_type": "execute_result",
          "data": {
            "text/plain": [
              "{'K1': K1, 'K2': K2, 'K3': K3, 'K4': K4}"
            ]
          },
          "metadata": {},
          "execution_count": 42
        }
      ]
    },
    {
      "cell_type": "markdown",
      "metadata": {
        "id": "b99b4ca0"
      },
      "source": [
        "## Parameter"
      ]
    },
    {
      "cell_type": "code",
      "execution_count": 43,
      "metadata": {
        "id": "8c26d910"
      },
      "outputs": [],
      "source": [
        "c={} # Deckungsbeiträge\n",
        "c['K1']=5\n",
        "c['K2']=8\n",
        "c['K3']=15\n",
        "c['K4']=3"
      ]
    },
    {
      "cell_type": "code",
      "source": [
        "c"
      ],
      "metadata": {
        "id": "KKxCTpL3WJpO",
        "outputId": "f572af38-97c2-44ee-9200-7ee863593b37",
        "colab": {
          "base_uri": "https://localhost:8080/"
        }
      },
      "execution_count": 44,
      "outputs": [
        {
          "output_type": "execute_result",
          "data": {
            "text/plain": [
              "{'K1': 5, 'K2': 8, 'K3': 15, 'K4': 3}"
            ]
          },
          "metadata": {},
          "execution_count": 44
        }
      ]
    },
    {
      "cell_type": "code",
      "execution_count": 45,
      "metadata": {
        "id": "4fe37ab3"
      },
      "outputs": [],
      "source": [
        "a={} # Produktionskoeffizienten, a[ij]\n",
        "a['R1']={'K1':1,'K2':1, 'K3':2,'K4':1}\n",
        "a['R2']={'K1':2,'K2':1, 'K3':3,'K4':0}\n",
        "a['R3']={'K1':0,'K2':1, 'K3':2,'K4':1}\n",
        "a['G']={'K1':1,'K2':1, 'K3':1,'K4':1}"
      ]
    },
    {
      "cell_type": "code",
      "source": [
        "a"
      ],
      "metadata": {
        "id": "edwSzhIcWYwE",
        "outputId": "a901ee32-9812-4139-ad08-d34c0c25a5f8",
        "colab": {
          "base_uri": "https://localhost:8080/"
        }
      },
      "execution_count": 46,
      "outputs": [
        {
          "output_type": "execute_result",
          "data": {
            "text/plain": [
              "{'R1': {'K1': 1, 'K2': 1, 'K3': 2, 'K4': 1},\n",
              " 'R2': {'K1': 2, 'K2': 1, 'K3': 3, 'K4': 0},\n",
              " 'R3': {'K1': 0, 'K2': 1, 'K3': 2, 'K4': 1},\n",
              " 'G': {'K1': 1, 'K2': 1, 'K3': 1, 'K4': 1}}"
            ]
          },
          "metadata": {},
          "execution_count": 46
        }
      ]
    },
    {
      "cell_type": "code",
      "execution_count": 47,
      "metadata": {
        "id": "116263d8"
      },
      "outputs": [],
      "source": [
        "b={} # Kapazitäten Produktionsfaktoren\n",
        "b['R1']=1000\n",
        "b['R2']=500\n",
        "b['R3']=1500\n",
        "b['G']=2250"
      ]
    },
    {
      "cell_type": "code",
      "source": [
        "b"
      ],
      "metadata": {
        "id": "OtM0TJPhWfXv",
        "outputId": "14c6b11b-a797-4afa-8960-a894b9efff96",
        "colab": {
          "base_uri": "https://localhost:8080/"
        }
      },
      "execution_count": 48,
      "outputs": [
        {
          "output_type": "execute_result",
          "data": {
            "text/plain": [
              "{'R1': 1000, 'R2': 500, 'R3': 1500, 'G': 2250}"
            ]
          },
          "metadata": {},
          "execution_count": 48
        }
      ]
    },
    {
      "cell_type": "markdown",
      "metadata": {
        "id": "c9eede10"
      },
      "source": [
        "## Zielfunktion"
      ]
    },
    {
      "cell_type": "code",
      "execution_count": 49,
      "metadata": {
        "id": "954d02bf"
      },
      "outputs": [],
      "source": [
        "# Maximierung der gesamten Deckungsbeiträge\n",
        "solver.Maximize(sum(c[j]*x[j] for j in J))"
      ]
    },
    {
      "cell_type": "markdown",
      "metadata": {
        "id": "a8534816"
      },
      "source": [
        "## Nebenbedingungen"
      ]
    },
    {
      "cell_type": "code",
      "source": [
        "I"
      ],
      "metadata": {
        "id": "WqBvpOiiXRvm",
        "outputId": "e54cd0a3-d1aa-470f-f46a-6ae1f88300e1",
        "colab": {
          "base_uri": "https://localhost:8080/"
        }
      },
      "execution_count": 50,
      "outputs": [
        {
          "output_type": "execute_result",
          "data": {
            "text/plain": [
              "['R1', 'R2', 'R3', 'G']"
            ]
          },
          "metadata": {},
          "execution_count": 50
        }
      ]
    },
    {
      "cell_type": "code",
      "execution_count": 51,
      "metadata": {
        "id": "9accd7c3",
        "outputId": "c9daaa39-5d60-479e-df83-21b4b91ffb82",
        "colab": {
          "base_uri": "https://localhost:8080/"
        }
      },
      "outputs": [
        {
          "output_type": "stream",
          "name": "stdout",
          "text": [
            "Anzahl Nebenbedingungen = 4\n"
          ]
        }
      ],
      "source": [
        "for i in I:\n",
        "    solver.Add(sum(a[i][j]*x[j] for j in J)<=b[i])\n",
        "print('Anzahl Nebenbedingungen =', solver.NumConstraints())"
      ]
    },
    {
      "cell_type": "markdown",
      "metadata": {
        "id": "9a459618"
      },
      "source": [
        "## Berechnung Lösung"
      ]
    },
    {
      "cell_type": "code",
      "execution_count": 52,
      "metadata": {
        "id": "b9005832",
        "outputId": "dd432125-ad10-4557-ad14-f3c22c2ec03f",
        "colab": {
          "base_uri": "https://localhost:8080/"
        }
      },
      "outputs": [
        {
          "output_type": "stream",
          "name": "stdout",
          "text": [
            "LÖSUNG:\n",
            "Zielfunktionswert (Deckungsbeitrag) = 5500.0\n",
            "K1 = 0\n",
            "K2 = 500\n",
            "K3 = 0\n",
            "K4 = 500\n"
          ]
        }
      ],
      "source": [
        "status = solver.Solve()\n",
        "\n",
        "if status == pywraplp.Solver.OPTIMAL:\n",
        "    print('LÖSUNG:')\n",
        "    print('Zielfunktionswert (Deckungsbeitrag) =', solver.Objective().Value())\n",
        "    for j in J:\n",
        "        print(f'{j} =', round(x[j].solution_value()))\n",
        "else:\n",
        "    print('Problem hat keine Lösung')"
      ]
    },
    {
      "cell_type": "code",
      "execution_count": 52,
      "metadata": {
        "id": "4d84da39"
      },
      "outputs": [],
      "source": []
    }
  ]
}