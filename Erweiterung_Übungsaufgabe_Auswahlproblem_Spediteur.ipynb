{
  "nbformat": 4,
  "nbformat_minor": 0,
  "metadata": {
    "colab": {
      "provenance": [],
      "authorship_tag": "ABX9TyM3xEwFw9PIrHnpslKZUbwC",
      "include_colab_link": true
    },
    "kernelspec": {
      "name": "python3",
      "display_name": "Python 3"
    },
    "language_info": {
      "name": "python"
    }
  },
  "cells": [
    {
      "cell_type": "markdown",
      "metadata": {
        "id": "view-in-github",
        "colab_type": "text"
      },
      "source": [
        "<a href=\"https://colab.research.google.com/github/AlexKressner/Industrielles_Management/blob/main/Erweiterung_%C3%9Cbungsaufgabe_Auswahlproblem_Spediteur.ipynb\" target=\"_parent\"><img src=\"https://colab.research.google.com/assets/colab-badge.svg\" alt=\"Open In Colab\"/></a>"
      ]
    },
    {
      "cell_type": "markdown",
      "metadata": {
        "id": "b2fc884d"
      },
      "source": [
        "# Auswahlproblem Spediteur"
      ]
    },
    {
      "cell_type": "code",
      "execution_count": 14,
      "metadata": {
        "id": "cdb29647",
        "colab": {
          "base_uri": "https://localhost:8080/"
        },
        "outputId": "f5b3097e-afb7-4f23-d2f6-446259fbdb3b"
      },
      "outputs": [
        {
          "output_type": "stream",
          "name": "stdout",
          "text": [
            "\u001b[33mWARNING: Running pip as the 'root' user can result in broken permissions and conflicting behaviour with the system package manager. It is recommended to use a virtual environment instead: https://pip.pypa.io/warnings/venv\u001b[0m\u001b[33m\n",
            "\u001b[0m\u001b[33mWARNING: Running pip as the 'root' user can result in broken permissions and conflicting behaviour with the system package manager. It is recommended to use a virtual environment instead: https://pip.pypa.io/warnings/venv\u001b[0m\u001b[33m\n",
            "\u001b[0m"
          ]
        }
      ],
      "source": [
        "# Notwendigen Programminstallationen\n",
        "# pip als Paketmanager\n",
        "!pip install -U -q pip\n",
        "!pip install -q ortools\n",
        "# Laden des Programms\n",
        "from ortools.linear_solver import pywraplp"
      ]
    },
    {
      "cell_type": "code",
      "execution_count": 25,
      "metadata": {
        "id": "d8c0c7cc"
      },
      "outputs": [],
      "source": [
        "# Solver mit SCIP als Backend.\n",
        "# SCIP implementiert Simplex, Branch-and-Bound, etc\n",
        "solver = pywraplp.Solver.CreateSolver('SCIP')"
      ]
    },
    {
      "cell_type": "markdown",
      "metadata": {
        "id": "798a67ee"
      },
      "source": [
        "## Indexmengen"
      ]
    },
    {
      "cell_type": "code",
      "execution_count": 26,
      "metadata": {
        "id": "f9e0fd6f"
      },
      "outputs": [],
      "source": [
        "J = ['A1','A2','A3','A4','A5','A6'] # Menge der Aufträge"
      ]
    },
    {
      "cell_type": "code",
      "source": [
        "I = [\"LKW1\",\"LKW2\",\"LKW3\"] # Menge der LKW"
      ],
      "metadata": {
        "id": "HCzIMX68zF6g"
      },
      "execution_count": 27,
      "outputs": []
    },
    {
      "cell_type": "markdown",
      "metadata": {
        "id": "d1f9cf18"
      },
      "source": [
        "## Entscheidungsvariablen"
      ]
    },
    {
      "cell_type": "code",
      "source": [
        "a=1\n",
        "b=1"
      ],
      "metadata": {
        "id": "dppexSeV7aeA"
      },
      "execution_count": 28,
      "outputs": []
    },
    {
      "cell_type": "code",
      "source": [
        "f\"Summe von {a} und {b} ist: {a+b}\""
      ],
      "metadata": {
        "colab": {
          "base_uri": "https://localhost:8080/",
          "height": 57
        },
        "id": "ru6hme-I7dGF",
        "outputId": "5d1f4afc-17d4-4b4a-e38a-a5c13d022fc2"
      },
      "execution_count": 29,
      "outputs": [
        {
          "output_type": "execute_result",
          "data": {
            "text/plain": [
              "'Summe von 1 und 1 ist: 2'"
            ],
            "application/vnd.google.colaboratory.intrinsic+json": {
              "type": "string"
            }
          },
          "metadata": {},
          "execution_count": 29
        }
      ]
    },
    {
      "cell_type": "code",
      "execution_count": 30,
      "metadata": {
        "id": "afb847d3",
        "colab": {
          "base_uri": "https://localhost:8080/"
        },
        "outputId": "b6052744-4de5-4d05-e071-398ab92e26c7"
      },
      "outputs": [
        {
          "output_type": "stream",
          "name": "stdout",
          "text": [
            "Auftrag A1 auf LKW1\n",
            "Auftrag A2 auf LKW1\n",
            "Auftrag A3 auf LKW1\n",
            "Auftrag A4 auf LKW1\n",
            "Auftrag A5 auf LKW1\n",
            "Auftrag A6 auf LKW1\n",
            "Auftrag A1 auf LKW2\n",
            "Auftrag A2 auf LKW2\n",
            "Auftrag A3 auf LKW2\n",
            "Auftrag A4 auf LKW2\n",
            "Auftrag A5 auf LKW2\n",
            "Auftrag A6 auf LKW2\n",
            "Auftrag A1 auf LKW3\n",
            "Auftrag A2 auf LKW3\n",
            "Auftrag A3 auf LKW3\n",
            "Auftrag A4 auf LKW3\n",
            "Auftrag A5 auf LKW3\n",
            "Auftrag A6 auf LKW3\n",
            "Anzahl Entscheidungsvariablen = 18\n"
          ]
        }
      ],
      "source": [
        "# Definition der Entscheidungsvariablen\n",
        "x={}\n",
        "for i in I:\n",
        "  for j in J:\n",
        "    print(f\"Auftrag {j} auf {i}\")\n",
        "    x[i,j] = solver.BoolVar(f\"{i,j}\")\n",
        "print('Anzahl Entscheidungsvariablen =', solver.NumVariables())"
      ]
    },
    {
      "cell_type": "markdown",
      "metadata": {
        "id": "b99b4ca0"
      },
      "source": [
        "## Parameter"
      ]
    },
    {
      "cell_type": "code",
      "execution_count": 32,
      "metadata": {
        "id": "8c26d910"
      },
      "outputs": [],
      "source": [
        "db={} # Deckungsbeiträge der Aufträge\n",
        "db['A1']=10\n",
        "db['A2']=15\n",
        "db['A3']=25\n",
        "db['A4']=5\n",
        "db['A5']=11\n",
        "db['A6']=8"
      ]
    },
    {
      "cell_type": "code",
      "execution_count": 33,
      "metadata": {
        "id": "4fe37ab3"
      },
      "outputs": [],
      "source": [
        "v={} # Volumen Aufträge der Aufträge\n",
        "v['A1']=3\n",
        "v['A2']=4.5\n",
        "v['A3']=9.25\n",
        "v['A4']=1.2\n",
        "v['A5']=4\n",
        "v['A6']=2.7"
      ]
    },
    {
      "cell_type": "code",
      "execution_count": 34,
      "metadata": {
        "id": "116263d8"
      },
      "outputs": [],
      "source": [
        "# Kapazitäten LKW\n",
        "b = {}\n",
        "b[\"LKW1\"]=10\n",
        "b[\"LKW2\"]=8\n",
        "b[\"LKW3\"]=5"
      ]
    },
    {
      "cell_type": "code",
      "source": [
        "b"
      ],
      "metadata": {
        "colab": {
          "base_uri": "https://localhost:8080/"
        },
        "id": "iuEhudVTUniS",
        "outputId": "95379dab-91e7-40eb-d0b5-d3a353624121"
      },
      "execution_count": 35,
      "outputs": [
        {
          "output_type": "execute_result",
          "data": {
            "text/plain": [
              "{'LKW1': 10, 'LKW2': 8, 'LKW3': 5}"
            ]
          },
          "metadata": {},
          "execution_count": 35
        }
      ]
    },
    {
      "cell_type": "markdown",
      "metadata": {
        "id": "c9eede10"
      },
      "source": [
        "## Zielfunktion"
      ]
    },
    {
      "cell_type": "code",
      "execution_count": 36,
      "metadata": {
        "id": "954d02bf"
      },
      "outputs": [],
      "source": [
        "# Maximierung der gesamten Deckungsbeiträge\n",
        "solver.Maximize(sum(db[j]*x[i,j] for j in J for i in I))"
      ]
    },
    {
      "cell_type": "markdown",
      "metadata": {
        "id": "a8534816"
      },
      "source": [
        "## Nebenbedingungen"
      ]
    },
    {
      "cell_type": "code",
      "execution_count": 37,
      "metadata": {
        "id": "9accd7c3"
      },
      "outputs": [],
      "source": [
        "# LKW Kapazitäten\n",
        "for i in I:\n",
        "  solver.Add(sum(v[j]*x[i,j] for j in J)<=b[i])\n",
        "\n",
        "# Einmalige Verladung\n",
        "for j in J:\n",
        "  solver.Add(sum(x[i,j] for i in I)<=1)"
      ]
    },
    {
      "cell_type": "markdown",
      "metadata": {
        "id": "9a459618"
      },
      "source": [
        "## Berechnung Lösung"
      ]
    },
    {
      "cell_type": "code",
      "execution_count": 40,
      "metadata": {
        "id": "b9005832",
        "colab": {
          "base_uri": "https://localhost:8080/"
        },
        "outputId": "016af6e9-e2a0-4a64-b4c6-7687be28bce1"
      },
      "outputs": [
        {
          "output_type": "stream",
          "name": "stdout",
          "text": [
            "LÖSUNG:\n",
            "Zielfunktionswert (Deckungsbeitrag) = 64.0\n",
            "('LKW1', 'A3') = 1\n",
            "('LKW2', 'A4') = 1\n",
            "('LKW2', 'A5') = 1\n",
            "('LKW2', 'A6') = 1\n",
            "('LKW3', 'A2') = 1\n"
          ]
        }
      ],
      "source": [
        "status = solver.Solve()\n",
        "\n",
        "if status == pywraplp.Solver.OPTIMAL:\n",
        "    print('LÖSUNG:')\n",
        "    print('Zielfunktionswert (Deckungsbeitrag) =', solver.Objective().Value())\n",
        "    for i in I:\n",
        "      for j in J:\n",
        "        if x[i,j].solution_value()>0:\n",
        "          print(f'{i,j} =', round(x[i,j].solution_value()))\n",
        "else:\n",
        "    print('Problem hat keine Lösung')"
      ]
    },
    {
      "cell_type": "code",
      "execution_count": 13,
      "metadata": {
        "id": "4d84da39"
      },
      "outputs": [],
      "source": []
    }
  ]
}