{
  "nbformat": 4,
  "nbformat_minor": 0,
  "metadata": {
    "colab": {
      "provenance": [],
      "collapsed_sections": [
        "eV_cjbhd-c2I",
        "FznCQVc5-wbh",
        "D87-db6w-wKF",
        "ZriT_5GT_wQL",
        "lUZoqj8e-wBa"
      ],
      "authorship_tag": "ABX9TyME6UoR2qL60dUGEzq7YxVd",
      "include_colab_link": true
    },
    "kernelspec": {
      "name": "python3",
      "display_name": "Python 3"
    },
    "language_info": {
      "name": "python"
    }
  },
  "cells": [
    {
      "cell_type": "markdown",
      "metadata": {
        "id": "view-in-github",
        "colab_type": "text"
      },
      "source": [
        "<a href=\"https://colab.research.google.com/github/AlexKressner/Industrielles_Management/blob/main/Produktionsplanung.ipynb\" target=\"_parent\"><img src=\"https://colab.research.google.com/assets/colab-badge.svg\" alt=\"Open In Colab\"/></a>"
      ]
    },
    {
      "cell_type": "markdown",
      "metadata": {
        "id": "b2fc884d"
      },
      "source": [
        "# Produktionsplanung\n",
        "## Capacitated Lot Sizing Problem (CLSP)"
      ]
    },
    {
      "cell_type": "markdown",
      "source": [
        "## Modell"
      ],
      "metadata": {
        "id": "eV_cjbhd-c2I"
      }
    },
    {
      "cell_type": "markdown",
      "source": [
        "### Indexmengen\n",
        "$p \\in P$ : Menge der Produkte\n",
        "\n",
        "$t \\in T$ : Menge der Planungsperioden (Wochen)\n",
        "\n"
      ],
      "metadata": {
        "id": "FznCQVc5-wbh"
      }
    },
    {
      "cell_type": "markdown",
      "source": [
        "### Parameter\n",
        "$cap_t$ : Kapazität der Abfüllanlage in Woche $t$\n",
        "\n",
        "$lc_{p}$ : Lagerkosten für Produkt $p$\n",
        "\n",
        "$rc_{p}$ : Rüstkosten für Produkt $p$\n",
        "\n",
        "$bz_p$ : Bearbeitungszeit für Produkt $p$\n",
        "\n",
        "$rz_p$ : Rüstzeit für Produkt $p$\n",
        "\n",
        "$d_{pt}$ : Nachfrage nach Produkt $p$ in Woche $t$"
      ],
      "metadata": {
        "id": "D87-db6w-wKF"
      }
    },
    {
      "cell_type": "markdown",
      "source": [
        "### Variablen\n",
        "$Q_{pt} \\ge 0$ : Produktionsmenge von Produkt $p$ in Woche $t$\n",
        "\n",
        "$B_{pt} \\ge 0$ : Lagerbestand von Produkt $p$ in Woche $t$\n",
        "\n",
        "$R_{pt} \\in \\{0,1\\}$ : Binäre Rüstvariable"
      ],
      "metadata": {
        "id": "ZriT_5GT_wQL"
      }
    },
    {
      "cell_type": "markdown",
      "source": [
        "### Zielfunktion\n",
        "Min $K = \\sum_{p,t} (rc_p * R_{p,t} + lc_p * B_{pt})$"
      ],
      "metadata": {
        "id": "lUZoqj8e-wBa"
      }
    },
    {
      "cell_type": "markdown",
      "source": [
        "### Nebenbedingungen"
      ],
      "metadata": {
        "id": "2x-xiFCP-v0l"
      }
    },
    {
      "cell_type": "markdown",
      "source": [
        "**(1) Lagerbilanzgleichung**\n",
        "\n",
        "$B_{pt} = B_{p,t-1} + Q_{pt} - d_{pt}$\n",
        "\n",
        "$∀ p, t$"
      ],
      "metadata": {
        "id": "6u_OSabxCAyB"
      }
    },
    {
      "cell_type": "markdown",
      "source": [
        "**(2) Produktionskapazitäten**\n",
        "\n",
        "$\\sum_{p} (bz_p * Q_{pt} + rz_p * R_{pt}) \\le pcap_{t}$\n",
        "\n",
        "$∀ t$"
      ],
      "metadata": {
        "id": "hK_iqilARrsU"
      }
    },
    {
      "cell_type": "markdown",
      "source": [
        "**(3) Koppelung Produktions- mit Rüstentscheidung**\n",
        "\n",
        "$Q_{pt} \\le \\frac{cap_t}{bz_p} * R_{pt} $\n",
        "\n",
        "$∀ p, t$"
      ],
      "metadata": {
        "id": "fUhgNqZVSLHd"
      }
    },
    {
      "cell_type": "markdown",
      "source": [
        "## Implementierung"
      ],
      "metadata": {
        "id": "8T1IHcjpUBoZ"
      }
    },
    {
      "cell_type": "code",
      "execution_count": null,
      "metadata": {
        "id": "cdb29647",
        "colab": {
          "base_uri": "https://localhost:8080/"
        },
        "outputId": "c7f25c09-a0cd-4a93-d247-b97c9edf025f"
      },
      "outputs": [
        {
          "output_type": "stream",
          "name": "stdout",
          "text": [
            "\u001b[2K     \u001b[90m━━━━━━━━━━━━━━━━━━━━━━━━━━━━━━━━━━━━━━━━\u001b[0m \u001b[32m2.1/2.1 MB\u001b[0m \u001b[31m17.2 MB/s\u001b[0m eta \u001b[36m0:00:00\u001b[0m\n",
            "\u001b[2K   \u001b[90m━━━━━━━━━━━━━━━━━━━━━━━━━━━━━━━━━━━━━━━━\u001b[0m \u001b[32m22.9/22.9 MB\u001b[0m \u001b[31m52.0 MB/s\u001b[0m eta \u001b[36m0:00:00\u001b[0m\n",
            "\u001b[2K   \u001b[90m━━━━━━━━━━━━━━━━━━━━━━━━━━━━━━━━━━━━━━━━\u001b[0m \u001b[32m133.7/133.7 kB\u001b[0m \u001b[31m6.8 MB/s\u001b[0m eta \u001b[36m0:00:00\u001b[0m\n",
            "\u001b[2K   \u001b[90m━━━━━━━━━━━━━━━━━━━━━━━━━━━━━━━━━━━━━━━━\u001b[0m \u001b[32m13.0/13.0 MB\u001b[0m \u001b[31m58.1 MB/s\u001b[0m eta \u001b[36m0:00:00\u001b[0m\n",
            "\u001b[2K   \u001b[90m━━━━━━━━━━━━━━━━━━━━━━━━━━━━━━━━━━━━━━━━\u001b[0m \u001b[32m294.6/294.6 kB\u001b[0m \u001b[31m13.0 MB/s\u001b[0m eta \u001b[36m0:00:00\u001b[0m\n",
            "\u001b[2K   \u001b[90m━━━━━━━━━━━━━━━━━━━━━━━━━━━━━━━━━━━━━━━━\u001b[0m \u001b[32m346.6/346.6 kB\u001b[0m \u001b[31m18.5 MB/s\u001b[0m eta \u001b[36m0:00:00\u001b[0m\n",
            "\u001b[?25h\u001b[31mERROR: pip's dependency resolver does not currently take into account all the packages that are installed. This behaviour is the source of the following dependency conflicts.\n",
            "lida 0.0.10 requires fastapi, which is not installed.\n",
            "lida 0.0.10 requires kaleido, which is not installed.\n",
            "lida 0.0.10 requires python-multipart, which is not installed.\n",
            "lida 0.0.10 requires uvicorn, which is not installed.\n",
            "bigframes 0.19.1 requires pandas<2.1.4,>=1.5.0, but you have pandas 2.2.0 which is incompatible.\n",
            "google-colab 1.0.0 requires pandas==1.5.3, but you have pandas 2.2.0 which is incompatible.\n",
            "tensorboard 2.15.1 requires protobuf<4.24,>=3.19.6, but you have protobuf 4.25.2 which is incompatible.\n",
            "tensorflow-metadata 1.14.0 requires absl-py<2.0.0,>=0.9, but you have absl-py 2.1.0 which is incompatible.\n",
            "tensorflow-metadata 1.14.0 requires protobuf<4.21,>=3.20.3, but you have protobuf 4.25.2 which is incompatible.\u001b[0m\u001b[31m\n",
            "\u001b[0m\u001b[33mWARNING: Running pip as the 'root' user can result in broken permissions and conflicting behaviour with the system package manager. It is recommended to use a virtual environment instead: https://pip.pypa.io/warnings/venv\u001b[0m\u001b[33m\n",
            "\u001b[0m"
          ]
        }
      ],
      "source": [
        "# Notwendigen Programminstallationen\n",
        "# pip als Paketmanager\n",
        "!pip install -U -q pip\n",
        "!pip install -q ortools\n",
        "# Laden des Programms\n",
        "from ortools.linear_solver import pywraplp"
      ]
    },
    {
      "cell_type": "code",
      "execution_count": null,
      "metadata": {
        "id": "d8c0c7cc"
      },
      "outputs": [],
      "source": [
        "# Solver mit SCIP als Backend.\n",
        "# SCIP implementiert Simplex, Branch-and-Bound, etc\n",
        "solver = pywraplp.Solver.CreateSolver('SCIP')"
      ]
    },
    {
      "cell_type": "code",
      "source": [
        "! git clone https://github.com/AlexKressner/Industrielles_Management"
      ],
      "metadata": {
        "id": "DkkKC0dg82Cc",
        "colab": {
          "base_uri": "https://localhost:8080/"
        },
        "outputId": "b6714f7d-833f-480d-d6f3-823b9e96e689"
      },
      "execution_count": null,
      "outputs": [
        {
          "output_type": "stream",
          "name": "stdout",
          "text": [
            "Cloning into 'Industrielles_Management'...\n",
            "remote: Enumerating objects: 110, done.\u001b[K\n",
            "remote: Counting objects:   5% (1/20)\u001b[K\rremote: Counting objects:  10% (2/20)\u001b[K\rremote: Counting objects:  15% (3/20)\u001b[K\rremote: Counting objects:  20% (4/20)\u001b[K\rremote: Counting objects:  25% (5/20)\u001b[K\rremote: Counting objects:  30% (6/20)\u001b[K\rremote: Counting objects:  35% (7/20)\u001b[K\rremote: Counting objects:  40% (8/20)\u001b[K\rremote: Counting objects:  45% (9/20)\u001b[K\rremote: Counting objects:  50% (10/20)\u001b[K\rremote: Counting objects:  55% (11/20)\u001b[K\rremote: Counting objects:  60% (12/20)\u001b[K\rremote: Counting objects:  65% (13/20)\u001b[K\rremote: Counting objects:  70% (14/20)\u001b[K\rremote: Counting objects:  75% (15/20)\u001b[K\rremote: Counting objects:  80% (16/20)\u001b[K\rremote: Counting objects:  85% (17/20)\u001b[K\rremote: Counting objects:  90% (18/20)\u001b[K\rremote: Counting objects:  95% (19/20)\u001b[K\rremote: Counting objects: 100% (20/20)\u001b[K\rremote: Counting objects: 100% (20/20), done.\u001b[K\n",
            "remote: Compressing objects:   5% (1/20)\u001b[K\rremote: Compressing objects:  10% (2/20)\u001b[K\rremote: Compressing objects:  15% (3/20)\u001b[K\rremote: Compressing objects:  20% (4/20)\u001b[K\rremote: Compressing objects:  25% (5/20)\u001b[K\rremote: Compressing objects:  30% (6/20)\u001b[K\rremote: Compressing objects:  35% (7/20)\u001b[K\rremote: Compressing objects:  40% (8/20)\u001b[K\rremote: Compressing objects:  45% (9/20)\u001b[K\rremote: Compressing objects:  50% (10/20)\u001b[K\rremote: Compressing objects:  55% (11/20)\u001b[K\rremote: Compressing objects:  60% (12/20)\u001b[K\rremote: Compressing objects:  65% (13/20)\u001b[K\rremote: Compressing objects:  70% (14/20)\u001b[K\rremote: Compressing objects:  75% (15/20)\u001b[K\rremote: Compressing objects:  80% (16/20)\u001b[K\rremote: Compressing objects:  85% (17/20)\u001b[K\rremote: Compressing objects:  90% (18/20)\u001b[K\rremote: Compressing objects:  95% (19/20)\u001b[K\rremote: Compressing objects: 100% (20/20)\u001b[K\rremote: Compressing objects: 100% (20/20), done.\u001b[K\n",
            "Receiving objects:   0% (1/110)\rReceiving objects:   1% (2/110)\rReceiving objects:   2% (3/110)\rReceiving objects:   3% (4/110)\rReceiving objects:   4% (5/110)\rReceiving objects:   5% (6/110)\rReceiving objects:   6% (7/110)\rReceiving objects:   7% (8/110)\rReceiving objects:   8% (9/110)\rReceiving objects:   9% (10/110)\rReceiving objects:  10% (11/110)\rReceiving objects:  11% (13/110)\rReceiving objects:  12% (14/110)\rReceiving objects:  13% (15/110)\rReceiving objects:  14% (16/110)\rReceiving objects:  15% (17/110)\rReceiving objects:  16% (18/110)\rReceiving objects:  17% (19/110)\rReceiving objects:  18% (20/110)\rReceiving objects:  19% (21/110)\rReceiving objects:  20% (22/110)\rReceiving objects:  21% (24/110)\rReceiving objects:  22% (25/110)\rReceiving objects:  23% (26/110)\rReceiving objects:  24% (27/110)\rReceiving objects:  25% (28/110)\rReceiving objects:  26% (29/110)\rReceiving objects:  27% (30/110)\rReceiving objects:  28% (31/110)\rReceiving objects:  29% (32/110)\rReceiving objects:  30% (33/110)\rReceiving objects:  31% (35/110)\rReceiving objects:  32% (36/110)\rReceiving objects:  33% (37/110)\rReceiving objects:  34% (38/110)\rReceiving objects:  35% (39/110)\rReceiving objects:  36% (40/110)\rReceiving objects:  37% (41/110)\rReceiving objects:  38% (42/110)\rReceiving objects:  39% (43/110)\rReceiving objects:  40% (44/110)\rReceiving objects:  41% (46/110)\rReceiving objects:  42% (47/110)\rReceiving objects:  43% (48/110)\rReceiving objects:  44% (49/110)\rReceiving objects:  45% (50/110)\rReceiving objects:  46% (51/110)\rReceiving objects:  47% (52/110)\rReceiving objects:  48% (53/110)\rReceiving objects:  49% (54/110)\rReceiving objects:  50% (55/110)\rReceiving objects:  51% (57/110)\rReceiving objects:  52% (58/110)\rReceiving objects:  53% (59/110)\rReceiving objects:  54% (60/110)\rReceiving objects:  55% (61/110)\rReceiving objects:  56% (62/110)\rReceiving objects:  57% (63/110)\rReceiving objects:  58% (64/110)\rReceiving objects:  59% (65/110)\rReceiving objects:  60% (66/110)\rReceiving objects:  61% (68/110)\rReceiving objects:  62% (69/110)\rReceiving objects:  63% (70/110)\rReceiving objects:  64% (71/110)\rReceiving objects:  65% (72/110)\rReceiving objects:  66% (73/110)\rReceiving objects:  67% (74/110)\rReceiving objects:  68% (75/110)\rReceiving objects:  69% (76/110)\rReceiving objects:  70% (77/110)\rReceiving objects:  71% (79/110)\rReceiving objects:  72% (80/110)\rReceiving objects:  73% (81/110)\rReceiving objects:  74% (82/110)\rReceiving objects:  75% (83/110)\rReceiving objects:  76% (84/110)\rReceiving objects:  77% (85/110)\rReceiving objects:  78% (86/110)\rReceiving objects:  79% (87/110)\rReceiving objects:  80% (88/110)\rReceiving objects:  81% (90/110)\rReceiving objects:  82% (91/110)\rReceiving objects:  83% (92/110)\rReceiving objects:  84% (93/110)\rReceiving objects:  85% (94/110)\rReceiving objects:  86% (95/110)\rReceiving objects:  87% (96/110)\rReceiving objects:  88% (97/110)\rReceiving objects:  89% (98/110)\rReceiving objects:  90% (99/110)\rReceiving objects:  91% (101/110)\rReceiving objects:  92% (102/110)\rReceiving objects:  93% (103/110)\rremote: Total 110 (delta 7), reused 0 (delta 0), pack-reused 90\u001b[K\n",
            "Receiving objects:  94% (104/110)\rReceiving objects:  95% (105/110)\rReceiving objects:  96% (106/110)\rReceiving objects:  97% (107/110)\rReceiving objects:  98% (108/110)\rReceiving objects:  99% (109/110)\rReceiving objects: 100% (110/110)\rReceiving objects: 100% (110/110), 548.57 KiB | 9.30 MiB/s, done.\n",
            "Resolving deltas:   0% (0/39)\rResolving deltas:   2% (1/39)\rResolving deltas:   5% (2/39)\rResolving deltas:   7% (3/39)\rResolving deltas:  10% (4/39)\rResolving deltas:  12% (5/39)\rResolving deltas:  15% (6/39)\rResolving deltas:  17% (7/39)\rResolving deltas:  20% (8/39)\rResolving deltas:  23% (9/39)\rResolving deltas:  25% (10/39)\rResolving deltas:  28% (11/39)\rResolving deltas:  30% (12/39)\rResolving deltas:  33% (13/39)\rResolving deltas:  35% (14/39)\rResolving deltas:  38% (15/39)\rResolving deltas:  41% (16/39)\rResolving deltas:  43% (17/39)\rResolving deltas:  46% (18/39)\rResolving deltas:  48% (19/39)\rResolving deltas:  51% (20/39)\rResolving deltas:  53% (21/39)\rResolving deltas:  56% (22/39)\rResolving deltas:  58% (23/39)\rResolving deltas:  61% (24/39)\rResolving deltas:  64% (25/39)\rResolving deltas:  66% (26/39)\rResolving deltas:  69% (27/39)\rResolving deltas:  71% (28/39)\rResolving deltas:  74% (29/39)\rResolving deltas:  76% (30/39)\rResolving deltas:  79% (31/39)\rResolving deltas:  82% (32/39)\rResolving deltas:  84% (33/39)\rResolving deltas:  87% (34/39)\rResolving deltas:  89% (35/39)\rResolving deltas:  92% (36/39)\rResolving deltas:  94% (37/39)\rResolving deltas:  97% (38/39)\rResolving deltas: 100% (39/39)\rResolving deltas: 100% (39/39), done.\n"
          ]
        }
      ]
    },
    {
      "cell_type": "code",
      "source": [
        "# Daten laden\n",
        "import pandas as pd"
      ],
      "metadata": {
        "id": "2-oi6YL28FEt"
      },
      "execution_count": null,
      "outputs": []
    },
    {
      "cell_type": "code",
      "source": [
        "path = \"Industrielles_Management/Daten/Produktionsplanung\""
      ],
      "metadata": {
        "id": "m_knWvLgTtYP"
      },
      "execution_count": null,
      "outputs": []
    },
    {
      "cell_type": "code",
      "source": [
        "# Nachfrage\n",
        "nachfrage = pd.read_csv(f\"{path}/Nachfrage.csv\", sep=\";\")"
      ],
      "metadata": {
        "id": "uF0YYNBI8ILm"
      },
      "execution_count": null,
      "outputs": []
    },
    {
      "cell_type": "code",
      "source": [
        "nachfrage.head()"
      ],
      "metadata": {
        "id": "EkihB5ZxIavj",
        "colab": {
          "base_uri": "https://localhost:8080/",
          "height": 204
        },
        "outputId": "b5614f1b-056b-470a-a170-d9d65d86eabd"
      },
      "execution_count": null,
      "outputs": [
        {
          "output_type": "execute_result",
          "data": {
            "text/plain": [
              "  Produkt  Woche  Nachfrage\n",
              "0    Well      1        140\n",
              "1    Well      2        350\n",
              "2    Well      3        420\n",
              "3    Well      4       1400\n",
              "4    Well      5          0"
            ],
            "text/html": [
              "\n",
              "  <div id=\"df-6322c1d2-1d05-41a0-80da-db836a1a41a5\" class=\"colab-df-container\">\n",
              "    <div>\n",
              "<style scoped>\n",
              "    .dataframe tbody tr th:only-of-type {\n",
              "        vertical-align: middle;\n",
              "    }\n",
              "\n",
              "    .dataframe tbody tr th {\n",
              "        vertical-align: top;\n",
              "    }\n",
              "\n",
              "    .dataframe thead th {\n",
              "        text-align: right;\n",
              "    }\n",
              "</style>\n",
              "<table border=\"1\" class=\"dataframe\">\n",
              "  <thead>\n",
              "    <tr style=\"text-align: right;\">\n",
              "      <th></th>\n",
              "      <th>Produkt</th>\n",
              "      <th>Woche</th>\n",
              "      <th>Nachfrage</th>\n",
              "    </tr>\n",
              "  </thead>\n",
              "  <tbody>\n",
              "    <tr>\n",
              "      <th>0</th>\n",
              "      <td>Well</td>\n",
              "      <td>1</td>\n",
              "      <td>140</td>\n",
              "    </tr>\n",
              "    <tr>\n",
              "      <th>1</th>\n",
              "      <td>Well</td>\n",
              "      <td>2</td>\n",
              "      <td>350</td>\n",
              "    </tr>\n",
              "    <tr>\n",
              "      <th>2</th>\n",
              "      <td>Well</td>\n",
              "      <td>3</td>\n",
              "      <td>420</td>\n",
              "    </tr>\n",
              "    <tr>\n",
              "      <th>3</th>\n",
              "      <td>Well</td>\n",
              "      <td>4</td>\n",
              "      <td>1400</td>\n",
              "    </tr>\n",
              "    <tr>\n",
              "      <th>4</th>\n",
              "      <td>Well</td>\n",
              "      <td>5</td>\n",
              "      <td>0</td>\n",
              "    </tr>\n",
              "  </tbody>\n",
              "</table>\n",
              "</div>\n",
              "    <div class=\"colab-df-buttons\">\n",
              "\n",
              "  <div class=\"colab-df-container\">\n",
              "    <button class=\"colab-df-convert\" onclick=\"convertToInteractive('df-6322c1d2-1d05-41a0-80da-db836a1a41a5')\"\n",
              "            title=\"Convert this dataframe to an interactive table.\"\n",
              "            style=\"display:none;\">\n",
              "\n",
              "  <svg xmlns=\"http://www.w3.org/2000/svg\" height=\"24px\" viewBox=\"0 -960 960 960\">\n",
              "    <path d=\"M120-120v-720h720v720H120Zm60-500h600v-160H180v160Zm220 220h160v-160H400v160Zm0 220h160v-160H400v160ZM180-400h160v-160H180v160Zm440 0h160v-160H620v160ZM180-180h160v-160H180v160Zm440 0h160v-160H620v160Z\"/>\n",
              "  </svg>\n",
              "    </button>\n",
              "\n",
              "  <style>\n",
              "    .colab-df-container {\n",
              "      display:flex;\n",
              "      gap: 12px;\n",
              "    }\n",
              "\n",
              "    .colab-df-convert {\n",
              "      background-color: #E8F0FE;\n",
              "      border: none;\n",
              "      border-radius: 50%;\n",
              "      cursor: pointer;\n",
              "      display: none;\n",
              "      fill: #1967D2;\n",
              "      height: 32px;\n",
              "      padding: 0 0 0 0;\n",
              "      width: 32px;\n",
              "    }\n",
              "\n",
              "    .colab-df-convert:hover {\n",
              "      background-color: #E2EBFA;\n",
              "      box-shadow: 0px 1px 2px rgba(60, 64, 67, 0.3), 0px 1px 3px 1px rgba(60, 64, 67, 0.15);\n",
              "      fill: #174EA6;\n",
              "    }\n",
              "\n",
              "    .colab-df-buttons div {\n",
              "      margin-bottom: 4px;\n",
              "    }\n",
              "\n",
              "    [theme=dark] .colab-df-convert {\n",
              "      background-color: #3B4455;\n",
              "      fill: #D2E3FC;\n",
              "    }\n",
              "\n",
              "    [theme=dark] .colab-df-convert:hover {\n",
              "      background-color: #434B5C;\n",
              "      box-shadow: 0px 1px 3px 1px rgba(0, 0, 0, 0.15);\n",
              "      filter: drop-shadow(0px 1px 2px rgba(0, 0, 0, 0.3));\n",
              "      fill: #FFFFFF;\n",
              "    }\n",
              "  </style>\n",
              "\n",
              "    <script>\n",
              "      const buttonEl =\n",
              "        document.querySelector('#df-6322c1d2-1d05-41a0-80da-db836a1a41a5 button.colab-df-convert');\n",
              "      buttonEl.style.display =\n",
              "        google.colab.kernel.accessAllowed ? 'block' : 'none';\n",
              "\n",
              "      async function convertToInteractive(key) {\n",
              "        const element = document.querySelector('#df-6322c1d2-1d05-41a0-80da-db836a1a41a5');\n",
              "        const dataTable =\n",
              "          await google.colab.kernel.invokeFunction('convertToInteractive',\n",
              "                                                    [key], {});\n",
              "        if (!dataTable) return;\n",
              "\n",
              "        const docLinkHtml = 'Like what you see? Visit the ' +\n",
              "          '<a target=\"_blank\" href=https://colab.research.google.com/notebooks/data_table.ipynb>data table notebook</a>'\n",
              "          + ' to learn more about interactive tables.';\n",
              "        element.innerHTML = '';\n",
              "        dataTable['output_type'] = 'display_data';\n",
              "        await google.colab.output.renderOutput(dataTable, element);\n",
              "        const docLink = document.createElement('div');\n",
              "        docLink.innerHTML = docLinkHtml;\n",
              "        element.appendChild(docLink);\n",
              "      }\n",
              "    </script>\n",
              "  </div>\n",
              "\n",
              "\n",
              "<div id=\"df-c9a8cf48-009e-47a2-a073-d400b0f201d9\">\n",
              "  <button class=\"colab-df-quickchart\" onclick=\"quickchart('df-c9a8cf48-009e-47a2-a073-d400b0f201d9')\"\n",
              "            title=\"Suggest charts\"\n",
              "            style=\"display:none;\">\n",
              "\n",
              "<svg xmlns=\"http://www.w3.org/2000/svg\" height=\"24px\"viewBox=\"0 0 24 24\"\n",
              "     width=\"24px\">\n",
              "    <g>\n",
              "        <path d=\"M19 3H5c-1.1 0-2 .9-2 2v14c0 1.1.9 2 2 2h14c1.1 0 2-.9 2-2V5c0-1.1-.9-2-2-2zM9 17H7v-7h2v7zm4 0h-2V7h2v10zm4 0h-2v-4h2v4z\"/>\n",
              "    </g>\n",
              "</svg>\n",
              "  </button>\n",
              "\n",
              "<style>\n",
              "  .colab-df-quickchart {\n",
              "      --bg-color: #E8F0FE;\n",
              "      --fill-color: #1967D2;\n",
              "      --hover-bg-color: #E2EBFA;\n",
              "      --hover-fill-color: #174EA6;\n",
              "      --disabled-fill-color: #AAA;\n",
              "      --disabled-bg-color: #DDD;\n",
              "  }\n",
              "\n",
              "  [theme=dark] .colab-df-quickchart {\n",
              "      --bg-color: #3B4455;\n",
              "      --fill-color: #D2E3FC;\n",
              "      --hover-bg-color: #434B5C;\n",
              "      --hover-fill-color: #FFFFFF;\n",
              "      --disabled-bg-color: #3B4455;\n",
              "      --disabled-fill-color: #666;\n",
              "  }\n",
              "\n",
              "  .colab-df-quickchart {\n",
              "    background-color: var(--bg-color);\n",
              "    border: none;\n",
              "    border-radius: 50%;\n",
              "    cursor: pointer;\n",
              "    display: none;\n",
              "    fill: var(--fill-color);\n",
              "    height: 32px;\n",
              "    padding: 0;\n",
              "    width: 32px;\n",
              "  }\n",
              "\n",
              "  .colab-df-quickchart:hover {\n",
              "    background-color: var(--hover-bg-color);\n",
              "    box-shadow: 0 1px 2px rgba(60, 64, 67, 0.3), 0 1px 3px 1px rgba(60, 64, 67, 0.15);\n",
              "    fill: var(--button-hover-fill-color);\n",
              "  }\n",
              "\n",
              "  .colab-df-quickchart-complete:disabled,\n",
              "  .colab-df-quickchart-complete:disabled:hover {\n",
              "    background-color: var(--disabled-bg-color);\n",
              "    fill: var(--disabled-fill-color);\n",
              "    box-shadow: none;\n",
              "  }\n",
              "\n",
              "  .colab-df-spinner {\n",
              "    border: 2px solid var(--fill-color);\n",
              "    border-color: transparent;\n",
              "    border-bottom-color: var(--fill-color);\n",
              "    animation:\n",
              "      spin 1s steps(1) infinite;\n",
              "  }\n",
              "\n",
              "  @keyframes spin {\n",
              "    0% {\n",
              "      border-color: transparent;\n",
              "      border-bottom-color: var(--fill-color);\n",
              "      border-left-color: var(--fill-color);\n",
              "    }\n",
              "    20% {\n",
              "      border-color: transparent;\n",
              "      border-left-color: var(--fill-color);\n",
              "      border-top-color: var(--fill-color);\n",
              "    }\n",
              "    30% {\n",
              "      border-color: transparent;\n",
              "      border-left-color: var(--fill-color);\n",
              "      border-top-color: var(--fill-color);\n",
              "      border-right-color: var(--fill-color);\n",
              "    }\n",
              "    40% {\n",
              "      border-color: transparent;\n",
              "      border-right-color: var(--fill-color);\n",
              "      border-top-color: var(--fill-color);\n",
              "    }\n",
              "    60% {\n",
              "      border-color: transparent;\n",
              "      border-right-color: var(--fill-color);\n",
              "    }\n",
              "    80% {\n",
              "      border-color: transparent;\n",
              "      border-right-color: var(--fill-color);\n",
              "      border-bottom-color: var(--fill-color);\n",
              "    }\n",
              "    90% {\n",
              "      border-color: transparent;\n",
              "      border-bottom-color: var(--fill-color);\n",
              "    }\n",
              "  }\n",
              "</style>\n",
              "\n",
              "  <script>\n",
              "    async function quickchart(key) {\n",
              "      const quickchartButtonEl =\n",
              "        document.querySelector('#' + key + ' button');\n",
              "      quickchartButtonEl.disabled = true;  // To prevent multiple clicks.\n",
              "      quickchartButtonEl.classList.add('colab-df-spinner');\n",
              "      try {\n",
              "        const charts = await google.colab.kernel.invokeFunction(\n",
              "            'suggestCharts', [key], {});\n",
              "      } catch (error) {\n",
              "        console.error('Error during call to suggestCharts:', error);\n",
              "      }\n",
              "      quickchartButtonEl.classList.remove('colab-df-spinner');\n",
              "      quickchartButtonEl.classList.add('colab-df-quickchart-complete');\n",
              "    }\n",
              "    (() => {\n",
              "      let quickchartButtonEl =\n",
              "        document.querySelector('#df-c9a8cf48-009e-47a2-a073-d400b0f201d9 button');\n",
              "      quickchartButtonEl.style.display =\n",
              "        google.colab.kernel.accessAllowed ? 'block' : 'none';\n",
              "    })();\n",
              "  </script>\n",
              "</div>\n",
              "    </div>\n",
              "  </div>\n"
            ]
          },
          "metadata": {},
          "execution_count": 13
        }
      ]
    },
    {
      "cell_type": "code",
      "source": [
        "# Kosten & Zeiten\n",
        "kosten_zeiten = pd.read_csv(f\"{path}/Kosten_Zeiten.csv\", sep=\";\", decimal=\",\")"
      ],
      "metadata": {
        "id": "NTSilRdI-_B5"
      },
      "execution_count": null,
      "outputs": []
    },
    {
      "cell_type": "code",
      "source": [
        "kosten_zeiten.head()"
      ],
      "metadata": {
        "id": "SOEzklioIbzb",
        "colab": {
          "base_uri": "https://localhost:8080/",
          "height": 204
        },
        "outputId": "64cb474c-a8af-4fb4-8ef5-9ec1bb785a8b"
      },
      "execution_count": null,
      "outputs": [
        {
          "output_type": "execute_result",
          "data": {
            "text/plain": [
              "  Produkt  Rüstkosten  Lagerkosten  Rüstzeit  Bearbeitungszeit\n",
              "0    Well         100            3       420                 1\n",
              "1  BraTee         250            5       700                 2\n",
              "2  HafTee         200            6       560                 1\n",
              "3  DirTee         150            4       560                 3\n",
              "4   StraB         250            3      1400                 2"
            ],
            "text/html": [
              "\n",
              "  <div id=\"df-b1fce40a-c0ec-4388-820f-2619fae5ed48\" class=\"colab-df-container\">\n",
              "    <div>\n",
              "<style scoped>\n",
              "    .dataframe tbody tr th:only-of-type {\n",
              "        vertical-align: middle;\n",
              "    }\n",
              "\n",
              "    .dataframe tbody tr th {\n",
              "        vertical-align: top;\n",
              "    }\n",
              "\n",
              "    .dataframe thead th {\n",
              "        text-align: right;\n",
              "    }\n",
              "</style>\n",
              "<table border=\"1\" class=\"dataframe\">\n",
              "  <thead>\n",
              "    <tr style=\"text-align: right;\">\n",
              "      <th></th>\n",
              "      <th>Produkt</th>\n",
              "      <th>Rüstkosten</th>\n",
              "      <th>Lagerkosten</th>\n",
              "      <th>Rüstzeit</th>\n",
              "      <th>Bearbeitungszeit</th>\n",
              "    </tr>\n",
              "  </thead>\n",
              "  <tbody>\n",
              "    <tr>\n",
              "      <th>0</th>\n",
              "      <td>Well</td>\n",
              "      <td>100</td>\n",
              "      <td>3</td>\n",
              "      <td>420</td>\n",
              "      <td>1</td>\n",
              "    </tr>\n",
              "    <tr>\n",
              "      <th>1</th>\n",
              "      <td>BraTee</td>\n",
              "      <td>250</td>\n",
              "      <td>5</td>\n",
              "      <td>700</td>\n",
              "      <td>2</td>\n",
              "    </tr>\n",
              "    <tr>\n",
              "      <th>2</th>\n",
              "      <td>HafTee</td>\n",
              "      <td>200</td>\n",
              "      <td>6</td>\n",
              "      <td>560</td>\n",
              "      <td>1</td>\n",
              "    </tr>\n",
              "    <tr>\n",
              "      <th>3</th>\n",
              "      <td>DirTee</td>\n",
              "      <td>150</td>\n",
              "      <td>4</td>\n",
              "      <td>560</td>\n",
              "      <td>3</td>\n",
              "    </tr>\n",
              "    <tr>\n",
              "      <th>4</th>\n",
              "      <td>StraB</td>\n",
              "      <td>250</td>\n",
              "      <td>3</td>\n",
              "      <td>1400</td>\n",
              "      <td>2</td>\n",
              "    </tr>\n",
              "  </tbody>\n",
              "</table>\n",
              "</div>\n",
              "    <div class=\"colab-df-buttons\">\n",
              "\n",
              "  <div class=\"colab-df-container\">\n",
              "    <button class=\"colab-df-convert\" onclick=\"convertToInteractive('df-b1fce40a-c0ec-4388-820f-2619fae5ed48')\"\n",
              "            title=\"Convert this dataframe to an interactive table.\"\n",
              "            style=\"display:none;\">\n",
              "\n",
              "  <svg xmlns=\"http://www.w3.org/2000/svg\" height=\"24px\" viewBox=\"0 -960 960 960\">\n",
              "    <path d=\"M120-120v-720h720v720H120Zm60-500h600v-160H180v160Zm220 220h160v-160H400v160Zm0 220h160v-160H400v160ZM180-400h160v-160H180v160Zm440 0h160v-160H620v160ZM180-180h160v-160H180v160Zm440 0h160v-160H620v160Z\"/>\n",
              "  </svg>\n",
              "    </button>\n",
              "\n",
              "  <style>\n",
              "    .colab-df-container {\n",
              "      display:flex;\n",
              "      gap: 12px;\n",
              "    }\n",
              "\n",
              "    .colab-df-convert {\n",
              "      background-color: #E8F0FE;\n",
              "      border: none;\n",
              "      border-radius: 50%;\n",
              "      cursor: pointer;\n",
              "      display: none;\n",
              "      fill: #1967D2;\n",
              "      height: 32px;\n",
              "      padding: 0 0 0 0;\n",
              "      width: 32px;\n",
              "    }\n",
              "\n",
              "    .colab-df-convert:hover {\n",
              "      background-color: #E2EBFA;\n",
              "      box-shadow: 0px 1px 2px rgba(60, 64, 67, 0.3), 0px 1px 3px 1px rgba(60, 64, 67, 0.15);\n",
              "      fill: #174EA6;\n",
              "    }\n",
              "\n",
              "    .colab-df-buttons div {\n",
              "      margin-bottom: 4px;\n",
              "    }\n",
              "\n",
              "    [theme=dark] .colab-df-convert {\n",
              "      background-color: #3B4455;\n",
              "      fill: #D2E3FC;\n",
              "    }\n",
              "\n",
              "    [theme=dark] .colab-df-convert:hover {\n",
              "      background-color: #434B5C;\n",
              "      box-shadow: 0px 1px 3px 1px rgba(0, 0, 0, 0.15);\n",
              "      filter: drop-shadow(0px 1px 2px rgba(0, 0, 0, 0.3));\n",
              "      fill: #FFFFFF;\n",
              "    }\n",
              "  </style>\n",
              "\n",
              "    <script>\n",
              "      const buttonEl =\n",
              "        document.querySelector('#df-b1fce40a-c0ec-4388-820f-2619fae5ed48 button.colab-df-convert');\n",
              "      buttonEl.style.display =\n",
              "        google.colab.kernel.accessAllowed ? 'block' : 'none';\n",
              "\n",
              "      async function convertToInteractive(key) {\n",
              "        const element = document.querySelector('#df-b1fce40a-c0ec-4388-820f-2619fae5ed48');\n",
              "        const dataTable =\n",
              "          await google.colab.kernel.invokeFunction('convertToInteractive',\n",
              "                                                    [key], {});\n",
              "        if (!dataTable) return;\n",
              "\n",
              "        const docLinkHtml = 'Like what you see? Visit the ' +\n",
              "          '<a target=\"_blank\" href=https://colab.research.google.com/notebooks/data_table.ipynb>data table notebook</a>'\n",
              "          + ' to learn more about interactive tables.';\n",
              "        element.innerHTML = '';\n",
              "        dataTable['output_type'] = 'display_data';\n",
              "        await google.colab.output.renderOutput(dataTable, element);\n",
              "        const docLink = document.createElement('div');\n",
              "        docLink.innerHTML = docLinkHtml;\n",
              "        element.appendChild(docLink);\n",
              "      }\n",
              "    </script>\n",
              "  </div>\n",
              "\n",
              "\n",
              "<div id=\"df-04f013a6-aab4-4b34-85e7-a055468adb58\">\n",
              "  <button class=\"colab-df-quickchart\" onclick=\"quickchart('df-04f013a6-aab4-4b34-85e7-a055468adb58')\"\n",
              "            title=\"Suggest charts\"\n",
              "            style=\"display:none;\">\n",
              "\n",
              "<svg xmlns=\"http://www.w3.org/2000/svg\" height=\"24px\"viewBox=\"0 0 24 24\"\n",
              "     width=\"24px\">\n",
              "    <g>\n",
              "        <path d=\"M19 3H5c-1.1 0-2 .9-2 2v14c0 1.1.9 2 2 2h14c1.1 0 2-.9 2-2V5c0-1.1-.9-2-2-2zM9 17H7v-7h2v7zm4 0h-2V7h2v10zm4 0h-2v-4h2v4z\"/>\n",
              "    </g>\n",
              "</svg>\n",
              "  </button>\n",
              "\n",
              "<style>\n",
              "  .colab-df-quickchart {\n",
              "      --bg-color: #E8F0FE;\n",
              "      --fill-color: #1967D2;\n",
              "      --hover-bg-color: #E2EBFA;\n",
              "      --hover-fill-color: #174EA6;\n",
              "      --disabled-fill-color: #AAA;\n",
              "      --disabled-bg-color: #DDD;\n",
              "  }\n",
              "\n",
              "  [theme=dark] .colab-df-quickchart {\n",
              "      --bg-color: #3B4455;\n",
              "      --fill-color: #D2E3FC;\n",
              "      --hover-bg-color: #434B5C;\n",
              "      --hover-fill-color: #FFFFFF;\n",
              "      --disabled-bg-color: #3B4455;\n",
              "      --disabled-fill-color: #666;\n",
              "  }\n",
              "\n",
              "  .colab-df-quickchart {\n",
              "    background-color: var(--bg-color);\n",
              "    border: none;\n",
              "    border-radius: 50%;\n",
              "    cursor: pointer;\n",
              "    display: none;\n",
              "    fill: var(--fill-color);\n",
              "    height: 32px;\n",
              "    padding: 0;\n",
              "    width: 32px;\n",
              "  }\n",
              "\n",
              "  .colab-df-quickchart:hover {\n",
              "    background-color: var(--hover-bg-color);\n",
              "    box-shadow: 0 1px 2px rgba(60, 64, 67, 0.3), 0 1px 3px 1px rgba(60, 64, 67, 0.15);\n",
              "    fill: var(--button-hover-fill-color);\n",
              "  }\n",
              "\n",
              "  .colab-df-quickchart-complete:disabled,\n",
              "  .colab-df-quickchart-complete:disabled:hover {\n",
              "    background-color: var(--disabled-bg-color);\n",
              "    fill: var(--disabled-fill-color);\n",
              "    box-shadow: none;\n",
              "  }\n",
              "\n",
              "  .colab-df-spinner {\n",
              "    border: 2px solid var(--fill-color);\n",
              "    border-color: transparent;\n",
              "    border-bottom-color: var(--fill-color);\n",
              "    animation:\n",
              "      spin 1s steps(1) infinite;\n",
              "  }\n",
              "\n",
              "  @keyframes spin {\n",
              "    0% {\n",
              "      border-color: transparent;\n",
              "      border-bottom-color: var(--fill-color);\n",
              "      border-left-color: var(--fill-color);\n",
              "    }\n",
              "    20% {\n",
              "      border-color: transparent;\n",
              "      border-left-color: var(--fill-color);\n",
              "      border-top-color: var(--fill-color);\n",
              "    }\n",
              "    30% {\n",
              "      border-color: transparent;\n",
              "      border-left-color: var(--fill-color);\n",
              "      border-top-color: var(--fill-color);\n",
              "      border-right-color: var(--fill-color);\n",
              "    }\n",
              "    40% {\n",
              "      border-color: transparent;\n",
              "      border-right-color: var(--fill-color);\n",
              "      border-top-color: var(--fill-color);\n",
              "    }\n",
              "    60% {\n",
              "      border-color: transparent;\n",
              "      border-right-color: var(--fill-color);\n",
              "    }\n",
              "    80% {\n",
              "      border-color: transparent;\n",
              "      border-right-color: var(--fill-color);\n",
              "      border-bottom-color: var(--fill-color);\n",
              "    }\n",
              "    90% {\n",
              "      border-color: transparent;\n",
              "      border-bottom-color: var(--fill-color);\n",
              "    }\n",
              "  }\n",
              "</style>\n",
              "\n",
              "  <script>\n",
              "    async function quickchart(key) {\n",
              "      const quickchartButtonEl =\n",
              "        document.querySelector('#' + key + ' button');\n",
              "      quickchartButtonEl.disabled = true;  // To prevent multiple clicks.\n",
              "      quickchartButtonEl.classList.add('colab-df-spinner');\n",
              "      try {\n",
              "        const charts = await google.colab.kernel.invokeFunction(\n",
              "            'suggestCharts', [key], {});\n",
              "      } catch (error) {\n",
              "        console.error('Error during call to suggestCharts:', error);\n",
              "      }\n",
              "      quickchartButtonEl.classList.remove('colab-df-spinner');\n",
              "      quickchartButtonEl.classList.add('colab-df-quickchart-complete');\n",
              "    }\n",
              "    (() => {\n",
              "      let quickchartButtonEl =\n",
              "        document.querySelector('#df-04f013a6-aab4-4b34-85e7-a055468adb58 button');\n",
              "      quickchartButtonEl.style.display =\n",
              "        google.colab.kernel.accessAllowed ? 'block' : 'none';\n",
              "    })();\n",
              "  </script>\n",
              "</div>\n",
              "    </div>\n",
              "  </div>\n"
            ]
          },
          "metadata": {},
          "execution_count": 15
        }
      ]
    },
    {
      "cell_type": "markdown",
      "metadata": {
        "id": "798a67ee"
      },
      "source": [
        "## Indexmengen"
      ]
    },
    {
      "cell_type": "code",
      "source": [
        "P = nachfrage[\"Produkt\"].unique().tolist() # Menge der Produkte"
      ],
      "metadata": {
        "id": "ep4tx586Ze_f"
      },
      "execution_count": null,
      "outputs": []
    },
    {
      "cell_type": "code",
      "source": [
        "T = nachfrage[\"Woche\"].unique().tolist() # Menge der Planungsperioden (Wochen)"
      ],
      "metadata": {
        "id": "IxhGizoPNrPB"
      },
      "execution_count": null,
      "outputs": []
    },
    {
      "cell_type": "markdown",
      "metadata": {
        "id": "d1f9cf18"
      },
      "source": [
        "## Entscheidungsvariablen"
      ]
    },
    {
      "cell_type": "code",
      "source": [
        "infinity = solver.infinity()"
      ],
      "metadata": {
        "id": "KgIvlK2iAT_a"
      },
      "execution_count": null,
      "outputs": []
    },
    {
      "cell_type": "code",
      "source": [
        "# Produktionsmengen\n",
        "Q={}\n",
        "for p in P:\n",
        "  for t in T:\n",
        "    Q[p,t] = solver.NumVar(0.0, infinity, f\"{p},{t}\")"
      ],
      "metadata": {
        "id": "lbpazTPleD6g"
      },
      "execution_count": null,
      "outputs": []
    },
    {
      "cell_type": "code",
      "execution_count": null,
      "metadata": {
        "id": "afb847d3"
      },
      "outputs": [],
      "source": [
        "# Lagerbestand\n",
        "B={}\n",
        "for p in P:\n",
        "  for t in T:\n",
        "    B[p,t] = solver.NumVar(0.0, infinity, f\"{p},{t}\")"
      ]
    },
    {
      "cell_type": "code",
      "source": [
        "# Rüstvariablen\n",
        "R={}\n",
        "for p in P:\n",
        "  for t in T:\n",
        "        R[p,t] = solver.BoolVar(f\"{p},{t}\")"
      ],
      "metadata": {
        "id": "wMAg4KPFb3Ol"
      },
      "execution_count": null,
      "outputs": []
    },
    {
      "cell_type": "code",
      "source": [
        "print('Anzahl Entscheidungsvariablen =', solver.NumVariables())"
      ],
      "metadata": {
        "id": "hN6GY-5YBA9Y",
        "colab": {
          "base_uri": "https://localhost:8080/"
        },
        "outputId": "f3264c18-6b3b-4aea-b750-2131806d9775"
      },
      "execution_count": null,
      "outputs": [
        {
          "output_type": "stream",
          "name": "stdout",
          "text": [
            "Anzahl Entscheidungsvariablen = 75\n"
          ]
        }
      ]
    },
    {
      "cell_type": "markdown",
      "metadata": {
        "id": "b99b4ca0"
      },
      "source": [
        "## Parameter"
      ]
    },
    {
      "cell_type": "code",
      "source": [
        "# Kosten\n",
        "lc = kosten_zeiten.set_index([\"Produkt\"]).to_dict(\"dict\")[\"Lagerkosten\"]\n",
        "rc = kosten_zeiten.set_index([\"Produkt\"]).to_dict(\"dict\")[\"Rüstkosten\"]"
      ],
      "metadata": {
        "id": "LnaXtWEACWoU"
      },
      "execution_count": null,
      "outputs": []
    },
    {
      "cell_type": "code",
      "source": [
        "# Zeiten\n",
        "bz = kosten_zeiten.set_index([\"Produkt\"]).to_dict(\"dict\")[\"Bearbeitungszeit\"]\n",
        "rz = kosten_zeiten.set_index([\"Produkt\"]).to_dict(\"dict\")[\"Rüstzeit\"]"
      ],
      "metadata": {
        "id": "-k__H4DlP84P"
      },
      "execution_count": null,
      "outputs": []
    },
    {
      "cell_type": "code",
      "source": [
        "# Nachfrage\n",
        "d = nachfrage.set_index([\"Produkt\",\"Woche\"]).to_dict(\"dict\")[\"Nachfrage\"]"
      ],
      "metadata": {
        "id": "QvTVt7VaD1fC"
      },
      "execution_count": null,
      "outputs": []
    },
    {
      "cell_type": "code",
      "source": [
        "# Kapazitäten\n",
        "cap = {}\n",
        "for t in T:\n",
        "  cap[t] = 5000"
      ],
      "metadata": {
        "id": "ejN0ixdyEQCw"
      },
      "execution_count": null,
      "outputs": []
    },
    {
      "cell_type": "markdown",
      "metadata": {
        "id": "c9eede10"
      },
      "source": [
        "## Zielfunktion"
      ]
    },
    {
      "cell_type": "markdown",
      "source": [
        "### Zielfunktion\n",
        "Min $K = \\sum_{p,t} (rc_p * R_{p,t} + lc_p * B_{pt})$"
      ],
      "metadata": {
        "id": "lT4f5UwcyzKS"
      }
    },
    {
      "cell_type": "code",
      "execution_count": null,
      "metadata": {
        "id": "954d02bf"
      },
      "outputs": [],
      "source": [
        "# Minimierung der gesamten Kosten\n",
        "solver.Minimize(sum(rc[p] * R[p,t] + lc[p] * B[p,t] for p in P for t in T))"
      ]
    },
    {
      "cell_type": "markdown",
      "metadata": {
        "id": "a8534816"
      },
      "source": [
        "## Nebenbedingungen"
      ]
    },
    {
      "cell_type": "markdown",
      "source": [
        "**(1) Lagerbilanzgleichung**\n",
        "\n",
        "$B_{pt} = B_{p,t-1} + Q_{pt} - d_{pt}$\n",
        "\n",
        "$∀ p, t$"
      ],
      "metadata": {
        "id": "El09g3Zwh1pt"
      }
    },
    {
      "cell_type": "code",
      "source": [
        "for p in P:\n",
        "  for t in T:\n",
        "    solver.Add(B[p,t] == B.get((p,t-1),0) + Q[p,t] - d[p,t])"
      ],
      "metadata": {
        "id": "0q4H4wEGh3zw"
      },
      "execution_count": null,
      "outputs": []
    },
    {
      "cell_type": "markdown",
      "source": [
        "**(2) Produktionskapazitäten**\n",
        "\n",
        "$\\sum_{p} (bz_p * Q_{pt} + rz_p * R_{pt}) \\le cap_{t}$\n",
        "\n",
        "$∀ t$"
      ],
      "metadata": {
        "id": "359dUj_PiGwf"
      }
    },
    {
      "cell_type": "code",
      "source": [
        "for t in T:\n",
        "  solver.Add(sum(bz[p] * Q[p,t] + rz[p] * R[p,t] for p in P) <= cap[t])"
      ],
      "metadata": {
        "id": "tHRFE139iIBv"
      },
      "execution_count": null,
      "outputs": []
    },
    {
      "cell_type": "markdown",
      "source": [
        "**(3) Koppelung Produktions- mit Rüstentscheidung**\n",
        "\n",
        "$Q_{pt} \\le \\frac{cap_t}{bz_p} * R_{pt} $\n",
        "\n",
        "$∀ p, t$"
      ],
      "metadata": {
        "id": "oq1__uNxiShX"
      }
    },
    {
      "cell_type": "code",
      "source": [
        "for p in P:\n",
        "  for t in T:\n",
        "    solver.Add(Q[p,t] <= (cap[t]/bz[p]) * R[p,t])"
      ],
      "metadata": {
        "id": "zIF3XqSOiTAi"
      },
      "execution_count": null,
      "outputs": []
    },
    {
      "cell_type": "markdown",
      "metadata": {
        "id": "9a459618"
      },
      "source": [
        "## Berechnung Lösung"
      ]
    },
    {
      "cell_type": "code",
      "execution_count": null,
      "metadata": {
        "id": "b9005832",
        "colab": {
          "base_uri": "https://localhost:8080/"
        },
        "outputId": "13337a9b-48ab-4a1c-d61a-f213815f78e6"
      },
      "outputs": [
        {
          "output_type": "stream",
          "name": "stdout",
          "text": [
            "LÖSUNG:\n",
            "Zielfunktionswert (Kosten) = 12766.666666666657\n"
          ]
        }
      ],
      "source": [
        "status = solver.Solve()\n",
        "\n",
        "if status == pywraplp.Solver.OPTIMAL:\n",
        "    print('LÖSUNG:')\n",
        "    print('Zielfunktionswert (Kosten) =', solver.Objective().Value())\n",
        "else:\n",
        "    print('Problem hat keine Lösung')"
      ]
    },
    {
      "cell_type": "code",
      "execution_count": null,
      "metadata": {
        "id": "4d84da39",
        "colab": {
          "base_uri": "https://localhost:8080/"
        },
        "outputId": "8b0a2cc9-4fc0-4f1f-f8f6-4444364c7cb9"
      },
      "outputs": [
        {
          "output_type": "stream",
          "name": "stdout",
          "text": [
            "Woche: 1\n",
            "Produktionszeit: 1650\n",
            "Rüstzeit: 3080\n",
            "Produzierte Produkte: ['Well', 'BraTee', 'HafTee', 'StraB']\n",
            "Summe: 4730\n",
            "\n",
            "\n",
            "Woche: 2\n",
            "Produktionszeit: 3230\n",
            "Rüstzeit: 1540\n",
            "Produzierte Produkte: ['Well', 'HafTee', 'DirTee']\n",
            "Summe: 4770\n",
            "\n",
            "\n",
            "Woche: 3\n",
            "Produktionszeit: 3180\n",
            "Rüstzeit: 1820\n",
            "Produzierte Produkte: ['BraTee', 'HafTee', 'DirTee']\n",
            "Summe: 5000\n",
            "\n",
            "\n",
            "Woche: 4\n",
            "Produktionszeit: 3180\n",
            "Rüstzeit: 1820\n",
            "Produzierte Produkte: ['Well', 'StraB']\n",
            "Summe: 5000\n",
            "\n",
            "\n",
            "Woche: 5\n",
            "Produktionszeit: 3880\n",
            "Rüstzeit: 1120\n",
            "Produzierte Produkte: ['HafTee', 'DirTee']\n",
            "Summe: 5000\n",
            "\n",
            "\n"
          ]
        }
      ],
      "source": [
        "for t in T:\n",
        "  print(f\"Woche: {t}\")\n",
        "  produzieren = sum(bz[p] * Q[p,t].solution_value() for p in P)\n",
        "  rüsten = sum(rz[p] * R[p,t].solution_value() for p in P)\n",
        "  print(f\"Produktionszeit: {round(produzieren)}\")\n",
        "  print(f\"Rüstzeit: {round(rüsten)}\")\n",
        "  print(f\"Produzierte Produkte: {[p for p in P if R[p,t].solution_value()>0.0]}\")\n",
        "  print(f\"Summe: {round(rüsten+produzieren)}\")\n",
        "\n",
        "  print(\"\\n\")\n"
      ]
    },
    {
      "cell_type": "code",
      "source": [],
      "metadata": {
        "id": "VTBSqfQPiK7H"
      },
      "execution_count": null,
      "outputs": []
    }
  ]
}